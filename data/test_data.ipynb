{
 "cells": [
  {
   "cell_type": "code",
   "execution_count": 2,
   "metadata": {},
   "outputs": [],
   "source": [
    "#%%\n",
    "import polars as pl\n",
    "import pyarrow as pa\n",
    "import pyarrow.parquet as pq"
   ]
  },
  {
   "cell_type": "code",
   "execution_count": 3,
   "metadata": {},
   "outputs": [],
   "source": [
    "county = pl.read_parquet('../data/active_members_county.parquet')\n",
    "tract = pl.read_parquet(\"../data/active_members_tract.parquet\")\n",
    "chapel_scrape = pl.read_parquet(\"../data/full_church_building_data-20.parquet\")\n",
    "chapel_safegraph = pl.read_parquet(\"../data/safegraph_chapel.parquet\")\n",
    "temples = pl.from_arrow(pq.read_table(\"../data/temple_details_spatial.parquet\"))\n",
    "tract_nearest = pl.from_arrow(pq.read_table(\"../data/tract_distance_to_nearest_temple.parquet\"))"
   ]
  },
  {
   "cell_type": "code",
   "execution_count": 4,
   "metadata": {},
   "outputs": [
    {
     "data": {
      "text/html": [
       "<div><style>\n",
       ".dataframe > thead > tr > th,\n",
       ".dataframe > tbody > tr > td {\n",
       "  text-align: right;\n",
       "  white-space: pre-wrap;\n",
       "}\n",
       "</style>\n",
       "<small>shape: (20, 9)</small><table border=\"1\" class=\"dataframe\"><thead><tr><th>STATEFP</th><th>COUNTYFP</th><th>population</th><th>active_members_estimate</th><th>state_name</th><th>county_name</th><th>rcensus_lds</th><th>ratio_census</th><th>ratio_population</th></tr><tr><td>str</td><td>str</td><td>i64</td><td>f64</td><td>str</td><td>str</td><td>f64</td><td>f64</td><td>f64</td></tr></thead><tbody><tr><td>&quot;36&quot;</td><td>&quot;087&quot;</td><td>305461</td><td>254.0</td><td>&quot;New York&quot;</td><td>&quot;Rockland Count…</td><td>1126.0</td><td>0.23</td><td>0.0</td></tr><tr><td>&quot;36&quot;</td><td>&quot;067&quot;</td><td>463704</td><td>1105.0</td><td>&quot;New York&quot;</td><td>&quot;Onondaga Count…</td><td>1689.0</td><td>0.65</td><td>0.0</td></tr><tr><td>&quot;16&quot;</td><td>&quot;061&quot;</td><td>3761</td><td>0.0</td><td>&quot;Idaho&quot;</td><td>&quot;Lewis County&quot;</td><td>0.0</td><td>null</td><td>0.0</td></tr><tr><td>&quot;23&quot;</td><td>&quot;017&quot;</td><td>57867</td><td>20.0</td><td>&quot;Maine&quot;</td><td>&quot;Oxford County&quot;</td><td>246.0</td><td>0.08</td><td>0.0</td></tr><tr><td>&quot;01&quot;</td><td>&quot;105&quot;</td><td>10684</td><td>0.0</td><td>&quot;Alabama&quot;</td><td>&quot;Perry County&quot;</td><td>0.0</td><td>null</td><td>0.0</td></tr><tr><td>&quot;49&quot;</td><td>&quot;025&quot;</td><td>6893</td><td>969.0</td><td>&quot;Utah&quot;</td><td>&quot;Kane County&quot;</td><td>3991.0</td><td>0.24</td><td>0.14</td></tr><tr><td>&quot;18&quot;</td><td>&quot;159&quot;</td><td>16132</td><td>51.0</td><td>&quot;Indiana&quot;</td><td>&quot;Tipton County&quot;</td><td>0.0</td><td>null</td><td>0.0</td></tr><tr><td>&quot;39&quot;</td><td>&quot;091&quot;</td><td>46006</td><td>68.0</td><td>&quot;Ohio&quot;</td><td>&quot;Logan County&quot;</td><td>342.0</td><td>0.2</td><td>0.0</td></tr><tr><td>&quot;31&quot;</td><td>&quot;027&quot;</td><td>8906</td><td>0.0</td><td>&quot;Nebraska&quot;</td><td>&quot;Cedar County&quot;</td><td>0.0</td><td>null</td><td>0.0</td></tr><tr><td>&quot;01&quot;</td><td>&quot;065&quot;</td><td>16168</td><td>0.0</td><td>&quot;Alabama&quot;</td><td>&quot;Hale County&quot;</td><td>0.0</td><td>null</td><td>0.0</td></tr><tr><td>&quot;36&quot;</td><td>&quot;021&quot;</td><td>63241</td><td>10.0</td><td>&quot;New York&quot;</td><td>&quot;Columbia Count…</td><td>563.0</td><td>0.02</td><td>0.0</td></tr><tr><td>&quot;27&quot;</td><td>&quot;051&quot;</td><td>6082</td><td>32.0</td><td>&quot;Minnesota&quot;</td><td>&quot;Grant County&quot;</td><td>0.0</td><td>null</td><td>0.01</td></tr><tr><td>&quot;48&quot;</td><td>&quot;035&quot;</td><td>18067</td><td>0.0</td><td>&quot;Texas&quot;</td><td>&quot;Bosque County&quot;</td><td>0.0</td><td>null</td><td>0.0</td></tr><tr><td>&quot;18&quot;</td><td>&quot;029&quot;</td><td>49580</td><td>72.0</td><td>&quot;Indiana&quot;</td><td>&quot;Dearborn Count…</td><td>419.0</td><td>0.17</td><td>0.0</td></tr><tr><td>&quot;39&quot;</td><td>&quot;089&quot;</td><td>163708</td><td>367.0</td><td>&quot;Ohio&quot;</td><td>&quot;Licking County…</td><td>428.0</td><td>0.86</td><td>0.0</td></tr><tr><td>&quot;19&quot;</td><td>&quot;047&quot;</td><td>16951</td><td>0.0</td><td>&quot;Iowa&quot;</td><td>&quot;Crawford Count…</td><td>0.0</td><td>null</td><td>0.0</td></tr><tr><td>&quot;19&quot;</td><td>&quot;191&quot;</td><td>21031</td><td>0.0</td><td>&quot;Iowa&quot;</td><td>&quot;Winneshiek Cou…</td><td>209.0</td><td>0.0</td><td>0.0</td></tr><tr><td>&quot;54&quot;</td><td>&quot;011&quot;</td><td>95526</td><td>150.0</td><td>&quot;West Virginia&quot;</td><td>&quot;Cabell County&quot;</td><td>1304.0</td><td>0.12</td><td>0.0</td></tr><tr><td>&quot;12&quot;</td><td>&quot;087&quot;</td><td>73065</td><td>17.0</td><td>&quot;Florida&quot;</td><td>&quot;Monroe County&quot;</td><td>1629.0</td><td>0.01</td><td>0.0</td></tr><tr><td>&quot;40&quot;</td><td>&quot;099&quot;</td><td>13193</td><td>0.0</td><td>&quot;Oklahoma&quot;</td><td>&quot;Murray County&quot;</td><td>0.0</td><td>null</td><td>0.0</td></tr></tbody></table></div>"
      ],
      "text/plain": [
       "shape: (20, 9)\n",
       "┌─────────┬──────────┬────────────┬────────────┬───┬───────────┬───────────┬───────────┬───────────┐\n",
       "│ STATEFP ┆ COUNTYFP ┆ population ┆ active_mem ┆ … ┆ county_na ┆ rcensus_l ┆ ratio_cen ┆ ratio_pop │\n",
       "│ ---     ┆ ---      ┆ ---        ┆ bers_estim ┆   ┆ me        ┆ ds        ┆ sus       ┆ ulation   │\n",
       "│ str     ┆ str      ┆ i64        ┆ ate        ┆   ┆ ---       ┆ ---       ┆ ---       ┆ ---       │\n",
       "│         ┆          ┆            ┆ ---        ┆   ┆ str       ┆ f64       ┆ f64       ┆ f64       │\n",
       "│         ┆          ┆            ┆ f64        ┆   ┆           ┆           ┆           ┆           │\n",
       "╞═════════╪══════════╪════════════╪════════════╪═══╪═══════════╪═══════════╪═══════════╪═══════════╡\n",
       "│ 36      ┆ 087      ┆ 305461     ┆ 254.0      ┆ … ┆ Rockland  ┆ 1126.0    ┆ 0.23      ┆ 0.0       │\n",
       "│         ┆          ┆            ┆            ┆   ┆ County    ┆           ┆           ┆           │\n",
       "│ 36      ┆ 067      ┆ 463704     ┆ 1105.0     ┆ … ┆ Onondaga  ┆ 1689.0    ┆ 0.65      ┆ 0.0       │\n",
       "│         ┆          ┆            ┆            ┆   ┆ County    ┆           ┆           ┆           │\n",
       "│ 16      ┆ 061      ┆ 3761       ┆ 0.0        ┆ … ┆ Lewis     ┆ 0.0       ┆ null      ┆ 0.0       │\n",
       "│         ┆          ┆            ┆            ┆   ┆ County    ┆           ┆           ┆           │\n",
       "│ 23      ┆ 017      ┆ 57867      ┆ 20.0       ┆ … ┆ Oxford    ┆ 246.0     ┆ 0.08      ┆ 0.0       │\n",
       "│         ┆          ┆            ┆            ┆   ┆ County    ┆           ┆           ┆           │\n",
       "│ …       ┆ …        ┆ …          ┆ …          ┆ … ┆ …         ┆ …         ┆ …         ┆ …         │\n",
       "│ 19      ┆ 191      ┆ 21031      ┆ 0.0        ┆ … ┆ Winneshie ┆ 209.0     ┆ 0.0       ┆ 0.0       │\n",
       "│         ┆          ┆            ┆            ┆   ┆ k County  ┆           ┆           ┆           │\n",
       "│ 54      ┆ 011      ┆ 95526      ┆ 150.0      ┆ … ┆ Cabell    ┆ 1304.0    ┆ 0.12      ┆ 0.0       │\n",
       "│         ┆          ┆            ┆            ┆   ┆ County    ┆           ┆           ┆           │\n",
       "│ 12      ┆ 087      ┆ 73065      ┆ 17.0       ┆ … ┆ Monroe    ┆ 1629.0    ┆ 0.01      ┆ 0.0       │\n",
       "│         ┆          ┆            ┆            ┆   ┆ County    ┆           ┆           ┆           │\n",
       "│ 40      ┆ 099      ┆ 13193      ┆ 0.0        ┆ … ┆ Murray    ┆ 0.0       ┆ null      ┆ 0.0       │\n",
       "│         ┆          ┆            ┆            ┆   ┆ County    ┆           ┆           ┆           │\n",
       "└─────────┴──────────┴────────────┴────────────┴───┴───────────┴───────────┴───────────┴───────────┘"
      ]
     },
     "execution_count": 4,
     "metadata": {},
     "output_type": "execute_result"
    }
   ],
   "source": [
    "county.limit(20)"
   ]
  },
  {
   "cell_type": "code",
   "execution_count": 5,
   "metadata": {},
   "outputs": [
    {
     "data": {
      "text/html": [
       "<div><style>\n",
       ".dataframe > thead > tr > th,\n",
       ".dataframe > tbody > tr > td {\n",
       "  text-align: right;\n",
       "  white-space: pre-wrap;\n",
       "}\n",
       "</style>\n",
       "<small>shape: (5, 4)</small><table border=\"1\" class=\"dataframe\"><thead><tr><th>home</th><th>population</th><th>active_members_estimate</th><th>proportion</th></tr><tr><td>str</td><td>i64</td><td>f64</td><td>f64</td></tr></thead><tbody><tr><td>&quot;01001020100&quot;</td><td>1809</td><td>0.0</td><td>0.0</td></tr><tr><td>&quot;01001020200&quot;</td><td>2020</td><td>8.0</td><td>0.00396</td></tr><tr><td>&quot;01001020300&quot;</td><td>3543</td><td>6.0</td><td>0.001693</td></tr><tr><td>&quot;01001020400&quot;</td><td>4840</td><td>6.0</td><td>0.00124</td></tr><tr><td>&quot;01001020500&quot;</td><td>9938</td><td>21.0</td><td>0.002113</td></tr></tbody></table></div>"
      ],
      "text/plain": [
       "shape: (5, 4)\n",
       "┌─────────────┬────────────┬─────────────────────────┬────────────┐\n",
       "│ home        ┆ population ┆ active_members_estimate ┆ proportion │\n",
       "│ ---         ┆ ---        ┆ ---                     ┆ ---        │\n",
       "│ str         ┆ i64        ┆ f64                     ┆ f64        │\n",
       "╞═════════════╪════════════╪═════════════════════════╪════════════╡\n",
       "│ 01001020100 ┆ 1809       ┆ 0.0                     ┆ 0.0        │\n",
       "│ 01001020200 ┆ 2020       ┆ 8.0                     ┆ 0.00396    │\n",
       "│ 01001020300 ┆ 3543       ┆ 6.0                     ┆ 0.001693   │\n",
       "│ 01001020400 ┆ 4840       ┆ 6.0                     ┆ 0.00124    │\n",
       "│ 01001020500 ┆ 9938       ┆ 21.0                    ┆ 0.002113   │\n",
       "└─────────────┴────────────┴─────────────────────────┴────────────┘"
      ]
     },
     "execution_count": 5,
     "metadata": {},
     "output_type": "execute_result"
    }
   ],
   "source": [
    "tract.limit(5)"
   ]
  },
  {
   "cell_type": "code",
   "execution_count": 6,
   "metadata": {},
   "outputs": [
    {
     "data": {
      "text/html": [
       "<div><style>\n",
       ".dataframe > thead > tr > th,\n",
       ".dataframe > tbody > tr > td {\n",
       "  text-align: right;\n",
       "  white-space: pre-wrap;\n",
       "}\n",
       "</style>\n",
       "<small>shape: (5, 14)</small><table border=\"1\" class=\"dataframe\"><thead><tr><th>initial_address</th><th>initial_county</th><th>state</th><th>lat</th><th>lon</th><th>full_address</th><th>address_line_1</th><th>address_line_2</th><th>area</th><th>zip</th><th>zip_ext</th><th>plus_code</th><th>size</th><th>place_id</th></tr><tr><td>str</td><td>str</td><td>str</td><td>f64</td><td>f64</td><td>str</td><td>str</td><td>str</td><td>str</td><td>str</td><td>str</td><td>str</td><td>f64</td><td>str</td></tr></thead><tbody><tr><td>&quot;210 Lacey Aven…</td><td>&quot;alabaster&quot;</td><td>&quot;al&quot;</td><td>33.223753</td><td>-86.86462</td><td>&quot;210 Lacey Aven…</td><td>&quot;210 LACEY AVE&quot;</td><td>&quot;ALABASTER AL 3…</td><td>&quot;ALABASTER&quot;</td><td>&quot;35114&quot;</td><td>null</td><td>&quot;865M64FP+G5&quot;</td><td>31.701792</td><td>&quot;ChIJ1eqYitQniY…</td></tr><tr><td>&quot;801 N Cedar St…</td><td>&quot;ajo&quot;</td><td>&quot;az&quot;</td><td>32.379189</td><td>-112.866316</td><td>&quot;801 North Ceda…</td><td>&quot;801 N CEDAR ST…</td><td>&quot;AJO AZ 85321-2…</td><td>&quot;AJO&quot;</td><td>&quot;85321&quot;</td><td>&quot;2110&quot;</td><td>&quot;854994HM+MF&quot;</td><td>51.353264</td><td>&quot;ChIJGfLW2vNY1Y…</td></tr><tr><td>&quot;201 Canterbury…</td><td>&quot;alma&quot;</td><td>&quot;ar&quot;</td><td>35.504507</td><td>-94.227809</td><td>&quot;201 Canterbury…</td><td>&quot;201 CANTERBURY…</td><td>&quot;ALMA AR 72921-…</td><td>&quot;ALMA&quot;</td><td>&quot;72921&quot;</td><td>&quot;4707&quot;</td><td>&quot;8677GQ3C+RV&quot;</td><td>34.9065</td><td>&quot;ChIJDWs5meTHy4…</td></tr><tr><td>&quot;300 Richardson…</td><td>&quot;alamosa&quot;</td><td>&quot;co&quot;</td><td>37.469908</td><td>-105.877931</td><td>&quot;300 Richardson…</td><td>&quot;300 RICHARDSON…</td><td>&quot;ALAMOSA CO 811…</td><td>&quot;ALAMOSA&quot;</td><td>&quot;81101&quot;</td><td>&quot;2328&quot;</td><td>&quot;859PF49C+XR&quot;</td><td>43.390896</td><td>&quot;ChIJb5QfpfV7Fo…</td></tr><tr><td>&quot;2501 Maplewood…</td><td>&quot;anchorage&quot;</td><td>&quot;ak&quot;</td><td>61.198109</td><td>-149.844815</td><td>&quot;2501 Maplewood…</td><td>&quot;2501 MAPLEWOOD…</td><td>&quot;ANCHORAGE AK 9…</td><td>&quot;ANCHORAGE&quot;</td><td>&quot;99508&quot;</td><td>&quot;4056&quot;</td><td>&quot;93HG55X4+63&quot;</td><td>45.65418</td><td>&quot;ChIJ7X4z07KXyF…</td></tr></tbody></table></div>"
      ],
      "text/plain": [
       "shape: (5, 14)\n",
       "┌─────────────┬────────────┬───────┬───────────┬───┬─────────┬────────────┬───────────┬────────────┐\n",
       "│ initial_add ┆ initial_co ┆ state ┆ lat       ┆ … ┆ zip_ext ┆ plus_code  ┆ size      ┆ place_id   │\n",
       "│ ress        ┆ unty       ┆ ---   ┆ ---       ┆   ┆ ---     ┆ ---        ┆ ---       ┆ ---        │\n",
       "│ ---         ┆ ---        ┆ str   ┆ f64       ┆   ┆ str     ┆ str        ┆ f64       ┆ str        │\n",
       "│ str         ┆ str        ┆       ┆           ┆   ┆         ┆            ┆           ┆            │\n",
       "╞═════════════╪════════════╪═══════╪═══════════╪═══╪═════════╪════════════╪═══════════╪════════════╡\n",
       "│ 210 Lacey   ┆ alabaster  ┆ al    ┆ 33.223753 ┆ … ┆ null    ┆ 865M64FP+G ┆ 31.701792 ┆ ChIJ1eqYit │\n",
       "│ Avenue      ┆            ┆       ┆           ┆   ┆         ┆ 5          ┆           ┆ QniYgRFN4f │\n",
       "│             ┆            ┆       ┆           ┆   ┆         ┆            ┆           ┆ UXr5mh4    │\n",
       "│ 801 N Cedar ┆ ajo        ┆ az    ┆ 32.379189 ┆ … ┆ 2110    ┆ 854994HM+M ┆ 51.353264 ┆ ChIJGfLW2v │\n",
       "│ St          ┆            ┆       ┆           ┆   ┆         ┆ F          ┆           ┆ NY1YARCdAW │\n",
       "│             ┆            ┆       ┆           ┆   ┆         ┆            ┆           ┆ 5-jF4c4    │\n",
       "│ 201         ┆ alma       ┆ ar    ┆ 35.504507 ┆ … ┆ 4707    ┆ 8677GQ3C+R ┆ 34.9065   ┆ ChIJDWs5me │\n",
       "│ Canterbury  ┆            ┆       ┆           ┆   ┆         ┆ V          ┆           ┆ THy4cR7Bze │\n",
       "│ Drive       ┆            ┆       ┆           ┆   ┆         ┆            ┆           ┆ 62N789A    │\n",
       "│ 300         ┆ alamosa    ┆ co    ┆ 37.469908 ┆ … ┆ 2328    ┆ 859PF49C+X ┆ 43.390896 ┆ ChIJb5Qfpf │\n",
       "│ Richardson  ┆            ┆       ┆           ┆   ┆         ┆ R          ┆           ┆ V7FocRSpzT │\n",
       "│ Avenue      ┆            ┆       ┆           ┆   ┆         ┆            ┆           ┆ Im_dQFA    │\n",
       "│ 2501        ┆ anchorage  ┆ ak    ┆ 61.198109 ┆ … ┆ 4056    ┆ 93HG55X4+6 ┆ 45.65418  ┆ ChIJ7X4z07 │\n",
       "│ Maplewood   ┆            ┆       ┆           ┆   ┆         ┆ 3          ┆           ┆ KXyFYRQNcZ │\n",
       "│ Street      ┆            ┆       ┆           ┆   ┆         ┆            ┆           ┆ 7caXCB8    │\n",
       "└─────────────┴────────────┴───────┴───────────┴───┴─────────┴────────────┴───────────┴────────────┘"
      ]
     },
     "execution_count": 6,
     "metadata": {},
     "output_type": "execute_result"
    }
   ],
   "source": [
    "chapel_scrape.limit(5)"
   ]
  },
  {
   "cell_type": "code",
   "execution_count": 7,
   "metadata": {},
   "outputs": [
    {
     "data": {
      "text/html": [
       "<div><style>\n",
       ".dataframe > thead > tr > th,\n",
       ".dataframe > tbody > tr > td {\n",
       "  text-align: right;\n",
       "  white-space: pre-wrap;\n",
       "}\n",
       "</style>\n",
       "<small>shape: (5, 11)</small><table border=\"1\" class=\"dataframe\"><thead><tr><th>placekey</th><th>street_address</th><th>city</th><th>region</th><th>postal_code</th><th>wkt_area_sq_meters</th><th>initial_address</th><th>dist</th><th>point</th><th>point_chapel</th><th>location_name</th></tr><tr><td>str</td><td>str</td><td>str</td><td>str</td><td>str</td><td>f64</td><td>str</td><td>f64</td><td>list[i8]</td><td>list[i8]</td><td>str</td></tr></thead><tbody><tr><td>&quot;222-222@3bk-j6…</td><td>&quot;1516 Selief Ln…</td><td>&quot;Kodiak&quot;</td><td>&quot;AK&quot;</td><td>&quot;99615&quot;</td><td>1665.0</td><td>&quot;13559 Seward H…</td><td>3.814792</td><td>[1, 1, … 64]</td><td>[1, 1, … 64]</td><td>&quot;The Church of …</td></tr><tr><td>&quot;222-222@5nw-yn…</td><td>&quot;100 El Camino …</td><td>&quot;Norfolk&quot;</td><td>&quot;NE&quot;</td><td>&quot;68701&quot;</td><td>691.0</td><td>&quot;2700 Ensign Dr…</td><td>3.745428</td><td>[1, 1, … 64]</td><td>[1, 1, … 64]</td><td>&quot;The Church of …</td></tr><tr><td>&quot;222-222@5p4-bb…</td><td>&quot;2822 Canyon La…</td><td>&quot;Rapid City&quot;</td><td>&quot;SD&quot;</td><td>&quot;57702&quot;</td><td>2145.0</td><td>&quot;1215 SW 5th St…</td><td>3.747592</td><td>[1, 1, … 64]</td><td>[1, 1, … 64]</td><td>&quot;The Church of …</td></tr><tr><td>&quot;222-222@5pm-vd…</td><td>&quot;923 Pipkin Rd&quot;</td><td>&quot;Jackson&quot;</td><td>&quot;TN&quot;</td><td>&quot;38305&quot;</td><td>1506.0</td><td>&quot;342 West Main …</td><td>3.750858</td><td>[1, 1, … 64]</td><td>[1, 1, … 64]</td><td>&quot;The Church of …</td></tr><tr><td>&quot;222-222@5pn-r3…</td><td>&quot;902 E Clark Bl…</td><td>&quot;Murfreesboro&quot;</td><td>&quot;TN&quot;</td><td>&quot;37130&quot;</td><td>1830.0</td><td>&quot;4610 North Ben…</td><td>3.756448</td><td>[1, 1, … 64]</td><td>[1, 1, … 64]</td><td>&quot;The Church of …</td></tr></tbody></table></div>"
      ],
      "text/plain": [
       "shape: (5, 11)\n",
       "┌────────────┬────────────┬────────────┬────────┬───┬──────────┬───────────┬───────────┬───────────┐\n",
       "│ placekey   ┆ street_add ┆ city       ┆ region ┆ … ┆ dist     ┆ point     ┆ point_cha ┆ location_ │\n",
       "│ ---        ┆ ress       ┆ ---        ┆ ---    ┆   ┆ ---      ┆ ---       ┆ pel       ┆ name      │\n",
       "│ str        ┆ ---        ┆ str        ┆ str    ┆   ┆ f64      ┆ list[i8]  ┆ ---       ┆ ---       │\n",
       "│            ┆ str        ┆            ┆        ┆   ┆          ┆           ┆ list[i8]  ┆ str       │\n",
       "╞════════════╪════════════╪════════════╪════════╪═══╪══════════╪═══════════╪═══════════╪═══════════╡\n",
       "│ 222-222@3b ┆ 1516       ┆ Kodiak     ┆ AK     ┆ … ┆ 3.814792 ┆ [1, 1, …  ┆ [1, 1, …  ┆ The       │\n",
       "│ k-j6j-4sq  ┆ Selief Ln  ┆            ┆        ┆   ┆          ┆ 64]       ┆ 64]       ┆ Church of │\n",
       "│            ┆            ┆            ┆        ┆   ┆          ┆           ┆           ┆ Jesus     │\n",
       "│            ┆            ┆            ┆        ┆   ┆          ┆           ┆           ┆ Christ of │\n",
       "│            ┆            ┆            ┆        ┆   ┆          ┆           ┆           ┆ La…       │\n",
       "│ 222-222@5n ┆ 100 El     ┆ Norfolk    ┆ NE     ┆ … ┆ 3.745428 ┆ [1, 1, …  ┆ [1, 1, …  ┆ The       │\n",
       "│ w-ynz-fj9  ┆ Camino Dr  ┆            ┆        ┆   ┆          ┆ 64]       ┆ 64]       ┆ Church of │\n",
       "│            ┆            ┆            ┆        ┆   ┆          ┆           ┆           ┆ Jesus     │\n",
       "│            ┆            ┆            ┆        ┆   ┆          ┆           ┆           ┆ Christ of │\n",
       "│            ┆            ┆            ┆        ┆   ┆          ┆           ┆           ┆ La…       │\n",
       "│ 222-222@5p ┆ 2822       ┆ Rapid City ┆ SD     ┆ … ┆ 3.747592 ┆ [1, 1, …  ┆ [1, 1, …  ┆ The       │\n",
       "│ 4-bb4-8jv  ┆ Canyon     ┆            ┆        ┆   ┆          ┆ 64]       ┆ 64]       ┆ Church of │\n",
       "│            ┆ Lake Dr    ┆            ┆        ┆   ┆          ┆           ┆           ┆ Jesus     │\n",
       "│            ┆            ┆            ┆        ┆   ┆          ┆           ┆           ┆ Christ of │\n",
       "│            ┆            ┆            ┆        ┆   ┆          ┆           ┆           ┆ La…       │\n",
       "│ 222-222@5p ┆ 923 Pipkin ┆ Jackson    ┆ TN     ┆ … ┆ 3.750858 ┆ [1, 1, …  ┆ [1, 1, …  ┆ The       │\n",
       "│ m-vd4-p5f  ┆ Rd         ┆            ┆        ┆   ┆          ┆ 64]       ┆ 64]       ┆ Church of │\n",
       "│            ┆            ┆            ┆        ┆   ┆          ┆           ┆           ┆ Jesus     │\n",
       "│            ┆            ┆            ┆        ┆   ┆          ┆           ┆           ┆ Christ of │\n",
       "│            ┆            ┆            ┆        ┆   ┆          ┆           ┆           ┆ La…       │\n",
       "│ 222-222@5p ┆ 902 E      ┆ Murfreesbo ┆ TN     ┆ … ┆ 3.756448 ┆ [1, 1, …  ┆ [1, 1, …  ┆ The       │\n",
       "│ n-r3q-v2k  ┆ Clark Blvd ┆ ro         ┆        ┆   ┆          ┆ 64]       ┆ 64]       ┆ Church of │\n",
       "│            ┆            ┆            ┆        ┆   ┆          ┆           ┆           ┆ Jesus     │\n",
       "│            ┆            ┆            ┆        ┆   ┆          ┆           ┆           ┆ Christ of │\n",
       "│            ┆            ┆            ┆        ┆   ┆          ┆           ┆           ┆ La…       │\n",
       "└────────────┴────────────┴────────────┴────────┴───┴──────────┴───────────┴───────────┴───────────┘"
      ]
     },
     "execution_count": 7,
     "metadata": {},
     "output_type": "execute_result"
    }
   ],
   "source": [
    "chapel_safegraph.limit(5)"
   ]
  },
  {
   "cell_type": "code",
   "execution_count": 8,
   "metadata": {},
   "outputs": [
    {
     "data": {
      "text/html": [
       "<div><style>\n",
       ".dataframe > thead > tr > th,\n",
       ".dataframe > tbody > tr > td {\n",
       "  text-align: right;\n",
       "  white-space: pre-wrap;\n",
       "}\n",
       "</style>\n",
       "<small>shape: (20, 43)</small><table border=\"1\" class=\"dataframe\"><thead><tr><th>temple</th><th>instructionrooms</th><th>sealingrooms</th><th>baptismrooms</th><th>squarefootage</th><th>acreage</th><th>stakes</th><th>districts</th><th>all_units</th><th>elevation_ft</th><th>tower_spire</th><th>att_tower_spire</th><th>angelmoroni</th><th>announcement</th><th>groundbreaking</th><th>dedication</th><th>temple_urls</th><th>temple_address</th><th>lat</th><th>long</th><th>prophet</th><th>interval</th><th>prophet_start</th><th>prophet_end</th><th>location</th><th>status</th><th>date</th><th>templeOrgId</th><th>templeNameId</th><th>city</th><th>stateRegion</th><th>country</th><th>sortDate</th><th>guess_country</th><th>missing_state</th><th>first_word</th><th>lat_general</th><th>long_general</th><th>STATEFP</th><th>COUNTYFP</th><th>TRACTCE</th><th>BLKGRPCE</th><th>GEOID</th></tr><tr><td>str</td><td>f64</td><td>f64</td><td>f64</td><td>f64</td><td>f64</td><td>f64</td><td>f64</td><td>f64</td><td>f64</td><td>f64</td><td>str</td><td>str</td><td>date</td><td>date</td><td>date</td><td>str</td><td>str</td><td>f64</td><td>f64</td><td>str</td><td>struct[2]</td><td>datetime[μs, UTC]</td><td>datetime[μs, UTC]</td><td>str</td><td>str</td><td>str</td><td>i32</td><td>str</td><td>str</td><td>str</td><td>str</td><td>str</td><td>str</td><td>bool</td><td>str</td><td>f64</td><td>f64</td><td>str</td><td>str</td><td>str</td><td>str</td><td>str</td></tr></thead><tbody><tr><td>&quot;Aba Nigeria Te…</td><td>2.0</td><td>2.0</td><td>1.0</td><td>11500.0</td><td>6.3</td><td>70.0</td><td>15.0</td><td>85.0</td><td>192.2</td><td>1.0</td><td>&quot;Attached&quot;</td><td>&quot;Yes&quot;</td><td>2000-04-02</td><td>2002-02-23</td><td>2005-08-07</td><td>&quot;https://church…</td><td>&quot;72-80 Okpu-Umu…</td><td>5.16667</td><td>7.35</td><td>&quot;Gordon B. Hinc…</td><td>{1995-03-12 00:00:00 UTC,4.064256e8}</td><td>1995-03-12 00:00:00 UTC</td><td>2008-01-27 00:00:00 UTC</td><td>&quot;Aba, Abia, Nig…</td><td>&quot;OPERATING&quot;</td><td>&quot;7 August 2005&quot;</td><td>43202</td><td>&quot;aba-nigeria-te…</td><td>&quot;Aba&quot;</td><td>&quot;Abia&quot;</td><td>&quot;Nigeria&quot;</td><td>&quot;August 7, 2005…</td><td>null</td><td>false</td><td>&quot;Aba Nigeria &quot;</td><td>5.1128008</td><td>7.3651376</td><td>null</td><td>null</td><td>null</td><td>null</td><td>null</td></tr><tr><td>&quot;Abidjan Ivory …</td><td>null</td><td>null</td><td>null</td><td>null</td><td>0.55</td><td>null</td><td>null</td><td>null</td><td>173.1</td><td>1.0</td><td>&quot;Attached&quot;</td><td>&quot;Yes&quot;</td><td>2015-04-05</td><td>2018-11-08</td><td>null</td><td>&quot;https://church…</td><td>&quot;1874 Boulevard…</td><td>5.33547</td><td>-4.011394</td><td>&quot;Thomas S. Mons…</td><td>{2008-02-03 00:00:00 UTC,3.128544e8}</td><td>2008-02-03 00:00:00 UTC</td><td>2018-01-02 00:00:00 UTC</td><td>&quot;Abidjan, Côte …</td><td>&quot;CONSTRUCTION&quot;</td><td>&quot;Construction&quot;</td><td>4069710</td><td>&quot;abidjan-ivory-…</td><td>&quot;Abidjan&quot;</td><td>&quot;&quot;</td><td>&quot;Ivory Coast&quot;</td><td>&quot;&quot;</td><td>null</td><td>true</td><td>&quot;Abidjan Ivory …</td><td>5.320357</td><td>-4.016107</td><td>null</td><td>null</td><td>null</td><td>null</td><td>null</td></tr><tr><td>&quot;Accra Ghana Te…</td><td>2.0</td><td>2.0</td><td>1.0</td><td>17500.0</td><td>6.0</td><td>69.0</td><td>27.0</td><td>96.0</td><td>131.8</td><td>1.0</td><td>&quot;Attached&quot;</td><td>&quot;Yes&quot;</td><td>1998-02-16</td><td>2001-11-16</td><td>2004-01-11</td><td>&quot;https://church…</td><td>&quot;57 Independenc…</td><td>5.58123</td><td>-0.17572</td><td>&quot;Gordon B. Hinc…</td><td>{1995-03-12 00:00:00 UTC,4.064256e8}</td><td>1995-03-12 00:00:00 UTC</td><td>2008-01-27 00:00:00 UTC</td><td>&quot;Accra, Greater…</td><td>&quot;OPERATING&quot;</td><td>&quot;11 January 200…</td><td>36549</td><td>&quot;accra-ghana-te…</td><td>&quot;Accra&quot;</td><td>&quot;Greater Accra&quot;</td><td>&quot;Ghana&quot;</td><td>&quot;January 11, 20…</td><td>null</td><td>false</td><td>&quot;Accra Ghana &quot;</td><td>5.5571096</td><td>-0.201238</td><td>null</td><td>null</td><td>null</td><td>null</td><td>null</td></tr><tr><td>&quot;Adelaide Austr…</td><td>2.0</td><td>2.0</td><td>1.0</td><td>10700.0</td><td>6.94</td><td>3.0</td><td>1.0</td><td>4.0</td><td>137.7</td><td>1.0</td><td>&quot;Attached&quot;</td><td>&quot;Yes&quot;</td><td>1999-03-17</td><td>1999-05-29</td><td>2000-06-15</td><td>&quot;https://church…</td><td>&quot;53-59 Lower Po…</td><td>-34.890555</td><td>138.634495</td><td>&quot;Gordon B. Hinc…</td><td>{1995-03-12 00:00:00 UTC,4.064256e8}</td><td>1995-03-12 00:00:00 UTC</td><td>2008-01-27 00:00:00 UTC</td><td>&quot;Marden, South …</td><td>&quot;OPERATING&quot;</td><td>&quot;15 June 2000&quot;</td><td>38298</td><td>&quot;adelaide-austr…</td><td>&quot;Marden&quot;</td><td>&quot;South Australi…</td><td>&quot;Australia&quot;</td><td>&quot;June 15, 2000&quot;</td><td>null</td><td>false</td><td>&quot;Adelaide Austr…</td><td>-34.892564</td><td>138.634739</td><td>null</td><td>null</td><td>null</td><td>null</td><td>null</td></tr><tr><td>&quot;Alabang Philip…</td><td>null</td><td>null</td><td>null</td><td>null</td><td>2.6</td><td>null</td><td>null</td><td>null</td><td>57.5</td><td>1.0</td><td>&quot;Attached&quot;</td><td>&quot;No&quot;</td><td>2017-04-02</td><td>2020-06-04</td><td>null</td><td>&quot;https://church…</td><td>&quot;Filinvest Aven…</td><td>14.41203</td><td>121.03887</td><td>&quot;Thomas S. Mons…</td><td>{2008-02-03 00:00:00 UTC,3.128544e8}</td><td>2008-02-03 00:00:00 UTC</td><td>2018-01-02 00:00:00 UTC</td><td>&quot;Philippines&quot;</td><td>&quot;CONSTRUCTION&quot;</td><td>&quot;Construction&quot;</td><td>4098472</td><td>&quot;alabang-philip…</td><td>&quot;Manila&quot;</td><td>&quot;&quot;</td><td>&quot;Philippines&quot;</td><td>&quot;&quot;</td><td>null</td><td>true</td><td>&quot;Alabang Philip…</td><td>14.590635</td><td>120.979996</td><td>null</td><td>null</td><td>null</td><td>null</td><td>null</td></tr><tr><td>&quot;Albuquerque Ne…</td><td>2.0</td><td>3.0</td><td>1.0</td><td>34245.0</td><td>8.5</td><td>14.0</td><td>0.0</td><td>14.0</td><td>null</td><td>1.0</td><td>&quot;Attached&quot;</td><td>&quot;Yes&quot;</td><td>1997-04-04</td><td>1998-06-20</td><td>2000-03-05</td><td>&quot;https://church…</td><td>&quot;10301 San Fran…</td><td>35.167344</td><td>-106.52498</td><td>&quot;Gordon B. Hinc…</td><td>{1995-03-12 00:00:00 UTC,4.064256e8}</td><td>1995-03-12 00:00:00 UTC</td><td>2008-01-27 00:00:00 UTC</td><td>&quot;Albuquerque, N…</td><td>&quot;OPERATING&quot;</td><td>&quot;5 March 2000&quot;</td><td>36550</td><td>&quot;albuquerque-ne…</td><td>&quot;Albuquerque&quot;</td><td>&quot;New Mexico&quot;</td><td>&quot;United States&quot;</td><td>&quot;March 5, 2000&quot;</td><td>null</td><td>false</td><td>&quot;Albuquerque  &quot;</td><td>35.084103</td><td>-106.650985</td><td>&quot;35&quot;</td><td>&quot;001&quot;</td><td>&quot;003730&quot;</td><td>&quot;3&quot;</td><td>&quot;350010037303&quot;</td></tr><tr><td>&quot;Anchorage Alas…</td><td>2.0</td><td>1.0</td><td>1.0</td><td>11937.0</td><td>5.4</td><td>9.0</td><td>0.0</td><td>9.0</td><td>205.1</td><td>1.0</td><td>&quot;Attached&quot;</td><td>&quot;Yes&quot;</td><td>1997-10-04</td><td>1998-04-17</td><td>1999-01-09</td><td>&quot;https://church…</td><td>&quot;13161 Brayton …</td><td>61.101678</td><td>-149.840494</td><td>&quot;Gordon B. Hinc…</td><td>{1995-03-12 00:00:00 UTC,4.064256e8}</td><td>1995-03-12 00:00:00 UTC</td><td>2008-01-27 00:00:00 UTC</td><td>&quot;Anchorage, Ala…</td><td>&quot;OPERATING&quot;</td><td>&quot;9 January 1999…</td><td>36551</td><td>&quot;anchorage-alas…</td><td>&quot;Anchorage&quot;</td><td>&quot;Alaska&quot;</td><td>&quot;United States&quot;</td><td>&quot;January 9, 199…</td><td>null</td><td>false</td><td>&quot;Anchorage  &quot;</td><td>61.216313</td><td>-149.894852</td><td>&quot;02&quot;</td><td>&quot;020&quot;</td><td>&quot;002821&quot;</td><td>&quot;1&quot;</td><td>&quot;020200028211&quot;</td></tr><tr><td>&quot;Antofagasta Ch…</td><td>null</td><td>null</td><td>null</td><td>23000.0</td><td>1.9</td><td>null</td><td>null</td><td>null</td><td>66.5</td><td>1.0</td><td>&quot;Attached&quot;</td><td>&quot;No&quot;</td><td>2019-04-07</td><td>2020-11-27</td><td>null</td><td>&quot;https://church…</td><td>&quot;Avenida de Las…</td><td>-23.571547</td><td>-70.3938</td><td>&quot;Russell M. Nel…</td><td>{2018-01-14 00:00:00 UTC,1.823904e8}</td><td>2018-01-14 00:00:00 UTC</td><td>2023-10-26 00:00:00 UTC</td><td>&quot;Antofagasta, C…</td><td>&quot;CONSTRUCTION&quot;</td><td>&quot;Construction&quot;</td><td>4119596</td><td>&quot;antofagasta-ch…</td><td>&quot;Antofagasta&quot;</td><td>&quot;&quot;</td><td>&quot;Chile&quot;</td><td>&quot;&quot;</td><td>null</td><td>true</td><td>&quot;Antofagasta Ch…</td><td>-23.646374</td><td>-70.398003</td><td>null</td><td>null</td><td>null</td><td>null</td><td>null</td></tr><tr><td>&quot;Apia Samoa Tem…</td><td>2.0</td><td>2.0</td><td>1.0</td><td>18691.0</td><td>2.0</td><td>25.0</td><td>0.0</td><td>25.0</td><td>36.6</td><td>1.0</td><td>&quot;Attached&quot;</td><td>&quot;Yes&quot;</td><td>1977-10-15</td><td>1981-02-19</td><td>1983-08-05</td><td>&quot;https://church…</td><td>&quot;Vaitele Street…</td><td>-13.839193</td><td>-171.764727</td><td>&quot;Spencer W. Kim…</td><td>{1973-12-30 00:00:00 UTC,3.739392e8}</td><td>1973-12-30 00:00:00 UTC</td><td>1985-11-05 00:00:00 UTC</td><td>&quot;Apia, Pesega, …</td><td>&quot;OPERATING&quot;</td><td>&quot;5 August 1983&quot;</td><td>28</td><td>&quot;apia-samoa-tem…</td><td>&quot;Apia&quot;</td><td>&quot;Pesega&quot;</td><td>&quot;Samoa&quot;</td><td>&quot;August 5, 1983…</td><td>null</td><td>false</td><td>&quot;Apia Samoa &quot;</td><td>null</td><td>null</td><td>null</td><td>null</td><td>null</td><td>null</td><td>null</td></tr><tr><td>&quot;Arequipa Peru …</td><td>2.0</td><td>2.0</td><td>1.0</td><td>26969.0</td><td>7.91</td><td>21.0</td><td>5.0</td><td>26.0</td><td>null</td><td>1.0</td><td>&quot;Attached&quot;</td><td>&quot;Yes&quot;</td><td>2012-10-06</td><td>2017-03-04</td><td>2019-12-15</td><td>&quot;https://church…</td><td>&quot;Calle Cusco 38…</td><td>-16.361404</td><td>-71.542619</td><td>&quot;Thomas S. Mons…</td><td>{2008-02-03 00:00:00 UTC,3.128544e8}</td><td>2008-02-03 00:00:00 UTC</td><td>2018-01-02 00:00:00 UTC</td><td>&quot;Arequipa, Peru…</td><td>&quot;OPERATING&quot;</td><td>&quot;15 December 20…</td><td>4017570</td><td>&quot;arequipa-peru-…</td><td>&quot;Arequipa&quot;</td><td>&quot;&quot;</td><td>&quot;Peru&quot;</td><td>&quot;December 15, 2…</td><td>null</td><td>true</td><td>&quot;Arequipa Peru …</td><td>-16.398867</td><td>-71.536961</td><td>null</td><td>null</td><td>null</td><td>null</td><td>null</td></tr><tr><td>&quot;Asunción Parag…</td><td>2.0</td><td>2.0</td><td>1.0</td><td>11906.0</td><td>1.13</td><td>16.0</td><td>15.0</td><td>31.0</td><td>356.3</td><td>1.0</td><td>&quot;Attached&quot;</td><td>&quot;Yes&quot;</td><td>2000-04-02</td><td>2001-02-03</td><td>2002-05-19</td><td>&quot;https://church…</td><td>&quot;Avda Brasilia …</td><td>-25.266915</td><td>-57.597631</td><td>&quot;Gordon B. Hinc…</td><td>{1995-03-12 00:00:00 UTC,4.064256e8}</td><td>1995-03-12 00:00:00 UTC</td><td>2008-01-27 00:00:00 UTC</td><td>&quot;Asunción, Alto…</td><td>&quot;OPERATING&quot;</td><td>&quot;19 May 2002&quot;</td><td>43204</td><td>&quot;asuncion-parag…</td><td>&quot;Asunción&quot;</td><td>&quot;Alto Paraguay&quot;</td><td>&quot;Paraguay&quot;</td><td>&quot;May 19, 2002&quot;</td><td>null</td><td>false</td><td>&quot;Asunción Parag…</td><td>null</td><td>null</td><td>null</td><td>null</td><td>null</td><td>null</td><td>null</td></tr><tr><td>&quot;Atlanta Georgi…</td><td>4.0</td><td>4.0</td><td>1.0</td><td>34500.0</td><td>9.6</td><td>17.0</td><td>0.0</td><td>17.0</td><td>null</td><td>1.0</td><td>&quot;Attached&quot;</td><td>&quot;Yes&quot;</td><td>1980-04-02</td><td>1981-03-07</td><td>1983-06-01</td><td>&quot;https://church…</td><td>&quot;6450 Barfield …</td><td>33.931737</td><td>-84.36248</td><td>&quot;Spencer W. Kim…</td><td>{1973-12-30 00:00:00 UTC,3.739392e8}</td><td>1973-12-30 00:00:00 UTC</td><td>1985-11-05 00:00:00 UTC</td><td>&quot;Sandy Springs,…</td><td>&quot;OPERATING&quot;</td><td>&quot;1 June 1983&quot;</td><td>29</td><td>&quot;atlanta-georgi…</td><td>&quot;Sandy Springs&quot;</td><td>&quot;Georgia&quot;</td><td>&quot;United States&quot;</td><td>&quot;June 1, 1983&quot;</td><td>null</td><td>false</td><td>&quot;Atlanta  &quot;</td><td>33.924269</td><td>-84.378538</td><td>&quot;13&quot;</td><td>&quot;121&quot;</td><td>&quot;010121&quot;</td><td>&quot;1&quot;</td><td>&quot;131210101211&quot;</td></tr><tr><td>&quot;Auckland New Z…</td><td>4.0</td><td>3.0</td><td>1.0</td><td>null</td><td>null</td><td>null</td><td>null</td><td>null</td><td>196.9</td><td>1.0</td><td>&quot;Attached&quot;</td><td>&quot;No&quot;</td><td>2018-10-07</td><td>2020-06-13</td><td>null</td><td>&quot;https://church…</td><td>&quot;Redoubt Road, …</td><td>-36.992329</td><td>174.886419</td><td>&quot;Russell M. Nel…</td><td>{2018-01-14 00:00:00 UTC,1.823904e8}</td><td>2018-01-14 00:00:00 UTC</td><td>2023-10-26 00:00:00 UTC</td><td>&quot;Auckland, New …</td><td>&quot;CONSTRUCTION&quot;</td><td>&quot;Construction&quot;</td><td>4114417</td><td>&quot;auckland-new-z…</td><td>&quot;Auckland&quot;</td><td>&quot;&quot;</td><td>&quot;New Zealand&quot;</td><td>&quot;&quot;</td><td>null</td><td>true</td><td>&quot;Auckland New Z…</td><td>-36.852095</td><td>174.76318</td><td>null</td><td>null</td><td>null</td><td>null</td><td>null</td></tr><tr><td>&quot;Austin Texas T…</td><td>2.0</td><td>2.0</td><td>1.0</td><td>30000.0</td><td>10.6</td><td>null</td><td>null</td><td>null</td><td>897.6</td><td>1.0</td><td>&quot;Attached&quot;</td><td>&quot;No&quot;</td><td>2022-04-03</td><td>null</td><td>null</td><td>&quot;https://church…</td><td>&quot;1801 East Park…</td><td>30.51685</td><td>-97.796063</td><td>&quot;Russell M. Nel…</td><td>{2018-01-14 00:00:00 UTC,1.823904e8}</td><td>2018-01-14 00:00:00 UTC</td><td>2023-10-26 00:00:00 UTC</td><td>&quot;Texas, United …</td><td>&quot;ANNOUNCED&quot;</td><td>&quot;Announced&quot;</td><td>4148133</td><td>&quot;austin-texas-t…</td><td>&quot;Austin&quot;</td><td>&quot;Texas&quot;</td><td>&quot;United States&quot;</td><td>&quot;&quot;</td><td>null</td><td>true</td><td>&quot;Austin  &quot;</td><td>30.271129</td><td>-97.7437</td><td>&quot;48&quot;</td><td>&quot;491&quot;</td><td>&quot;020313&quot;</td><td>&quot;1&quot;</td><td>&quot;484910203131&quot;</td></tr><tr><td>&quot;Bacolod Philip…</td><td>2.0</td><td>2.0</td><td>1.0</td><td>26700.0</td><td>12.3</td><td>null</td><td>null</td><td>null</td><td>93.1</td><td>1.0</td><td>&quot;Attached&quot;</td><td>&quot;No&quot;</td><td>2019-10-05</td><td>2021-12-11</td><td>null</td><td>&quot;https://church…</td><td>&quot;Bacolod Airpor…</td><td>10.704893</td><td>122.991297</td><td>&quot;Russell M. Nel…</td><td>{2018-01-14 00:00:00 UTC,1.823904e8}</td><td>2018-01-14 00:00:00 UTC</td><td>2023-10-26 00:00:00 UTC</td><td>&quot;Lanao Del Nort…</td><td>&quot;CONSTRUCTION&quot;</td><td>&quot;Construction&quot;</td><td>4124794</td><td>&quot;bacolod-philip…</td><td>&quot;Lanao Del Nort…</td><td>&quot;&quot;</td><td>&quot;Philippines&quot;</td><td>&quot;&quot;</td><td>null</td><td>true</td><td>&quot;Bacolod Philip…</td><td>null</td><td>null</td><td>null</td><td>null</td><td>null</td><td>null</td><td>null</td></tr><tr><td>&quot;Bahía Blanca A…</td><td>2.0</td><td>2.0</td><td>1.0</td><td>19000.0</td><td>8.14</td><td>null</td><td>null</td><td>null</td><td>134.1</td><td>1.0</td><td>&quot;Attached&quot;</td><td>&quot;No&quot;</td><td>2020-04-05</td><td>2022-04-09</td><td>null</td><td>&quot;https://church…</td><td>&quot;Avenida Albert…</td><td>-38.686053</td><td>-62.228635</td><td>&quot;Russell M. Nel…</td><td>{2018-01-14 00:00:00 UTC,1.823904e8}</td><td>2018-01-14 00:00:00 UTC</td><td>2023-10-26 00:00:00 UTC</td><td>&quot;Argentina&quot;</td><td>&quot;CONSTRUCTION&quot;</td><td>&quot;Construction&quot;</td><td>4130710</td><td>&quot;bahia-blanca-a…</td><td>&quot;&quot;</td><td>&quot;&quot;</td><td>&quot;argentina&quot;</td><td>&quot;&quot;</td><td>&quot;argentina&quot;</td><td>true</td><td>&quot;Bahía Blanca A…</td><td>-34.996496</td><td>-64.967282</td><td>null</td><td>null</td><td>null</td><td>null</td><td>null</td></tr><tr><td>&quot;Bakersfield Ca…</td><td>2.0</td><td>2.0</td><td>1.0</td><td>30000.0</td><td>13.07</td><td>null</td><td>null</td><td>null</td><td>366.0</td><td>null</td><td>null</td><td>null</td><td>2023-04-02</td><td>null</td><td>null</td><td>&quot;https://church…</td><td>&quot;Stockdale High…</td><td>35.35391</td><td>-119.13682</td><td>&quot;Russell M. Nel…</td><td>{2018-01-14 00:00:00 UTC,1.823904e8}</td><td>2018-01-14 00:00:00 UTC</td><td>2023-10-26 00:00:00 UTC</td><td>&quot;California, Un…</td><td>&quot;ANNOUNCED&quot;</td><td>&quot;Announced&quot;</td><td>4156616</td><td>&quot;bakersfield-ca…</td><td>&quot;Bakersfield&quot;</td><td>&quot;California&quot;</td><td>&quot;United States&quot;</td><td>&quot;&quot;</td><td>null</td><td>true</td><td>&quot;Bakersfield  &quot;</td><td>35.373871</td><td>-119.019464</td><td>&quot;06&quot;</td><td>&quot;029&quot;</td><td>&quot;003813&quot;</td><td>&quot;1&quot;</td><td>&quot;060290038131&quot;</td></tr><tr><td>&quot;Bangkok Thaila…</td><td>null</td><td>null</td><td>null</td><td>48525.0</td><td>1.77</td><td>13.0</td><td>21.0</td><td>34.0</td><td>12.0</td><td>9.0</td><td>&quot;Attached&quot;</td><td>&quot;No&quot;</td><td>2015-04-05</td><td>2019-01-26</td><td>2023-10-22</td><td>&quot;https://church…</td><td>&quot;1645/6 New Pet…</td><td>13.749639</td><td>100.562665</td><td>&quot;Thomas S. Mons…</td><td>{2008-02-03 00:00:00 UTC,3.128544e8}</td><td>2008-02-03 00:00:00 UTC</td><td>2018-01-02 00:00:00 UTC</td><td>&quot;Bangkok, Thail…</td><td>&quot;OPERATING&quot;</td><td>&quot;22 October 202…</td><td>4069712</td><td>&quot;bangkok-thaila…</td><td>&quot;Bangkok&quot;</td><td>&quot;&quot;</td><td>&quot;Thailand&quot;</td><td>&quot;October 22, 20…</td><td>null</td><td>true</td><td>&quot;Bangkok Thaila…</td><td>13.752494</td><td>100.493509</td><td>null</td><td>null</td><td>null</td><td>null</td><td>null</td></tr><tr><td>&quot;Barcelona Spai…</td><td>2.0</td><td>2.0</td><td>1.0</td><td>27500.0</td><td>5.4</td><td>null</td><td>null</td><td>null</td><td>573.0</td><td>null</td><td>null</td><td>null</td><td>2022-04-03</td><td>null</td><td>null</td><td>&quot;https://church…</td><td>&quot;Avinguda de la…</td><td>41.487601</td><td>2.065174</td><td>&quot;Russell M. Nel…</td><td>{2018-01-14 00:00:00 UTC,1.823904e8}</td><td>2018-01-14 00:00:00 UTC</td><td>2023-10-26 00:00:00 UTC</td><td>&quot;Spain&quot;</td><td>&quot;ANNOUNCED&quot;</td><td>&quot;Announced&quot;</td><td>4148122</td><td>&quot;barcelona-spai…</td><td>&quot;&quot;</td><td>&quot;&quot;</td><td>&quot;spain&quot;</td><td>&quot;&quot;</td><td>&quot;spain&quot;</td><td>true</td><td>&quot;Barcelona Spai…</td><td>39.326068</td><td>-4.837979</td><td>null</td><td>null</td><td>null</td><td>null</td><td>null</td></tr><tr><td>&quot;Barranquilla C…</td><td>2.0</td><td>1.0</td><td>1.0</td><td>25349.0</td><td>5.93</td><td>7.0</td><td>2.0</td><td>9.0</td><td>174.1</td><td>1.0</td><td>&quot;Attached&quot;</td><td>&quot;Yes&quot;</td><td>2011-10-01</td><td>2016-02-20</td><td>2018-12-09</td><td>&quot;https://church…</td><td>&quot;Carrera 46 via…</td><td>11.015388</td><td>-74.847608</td><td>&quot;Thomas S. Mons…</td><td>{2008-02-03 00:00:00 UTC,3.128544e8}</td><td>2008-02-03 00:00:00 UTC</td><td>2018-01-02 00:00:00 UTC</td><td>&quot;Barranquilla, …</td><td>&quot;OPERATING&quot;</td><td>&quot;9 December 201…</td><td>4012420</td><td>&quot;barranquilla-c…</td><td>&quot;Barranquilla&quot;</td><td>&quot;&quot;</td><td>&quot;Colombia&quot;</td><td>&quot;December 9, 20…</td><td>null</td><td>true</td><td>&quot;Barranquilla C…</td><td>10.99387</td><td>-74.792718</td><td>null</td><td>null</td><td>null</td><td>null</td><td>null</td></tr></tbody></table></div>"
      ],
      "text/plain": [
       "shape: (20, 43)\n",
       "┌────────────┬────────────┬────────────┬───────────┬───┬──────────┬─────────┬──────────┬───────────┐\n",
       "│ temple     ┆ instructio ┆ sealingroo ┆ baptismro ┆ … ┆ COUNTYFP ┆ TRACTCE ┆ BLKGRPCE ┆ GEOID     │\n",
       "│ ---        ┆ nrooms     ┆ ms         ┆ oms       ┆   ┆ ---      ┆ ---     ┆ ---      ┆ ---       │\n",
       "│ str        ┆ ---        ┆ ---        ┆ ---       ┆   ┆ str      ┆ str     ┆ str      ┆ str       │\n",
       "│            ┆ f64        ┆ f64        ┆ f64       ┆   ┆          ┆         ┆          ┆           │\n",
       "╞════════════╪════════════╪════════════╪═══════════╪═══╪══════════╪═════════╪══════════╪═══════════╡\n",
       "│ Aba        ┆ 2.0        ┆ 2.0        ┆ 1.0       ┆ … ┆ null     ┆ null    ┆ null     ┆ null      │\n",
       "│ Nigeria    ┆            ┆            ┆           ┆   ┆          ┆         ┆          ┆           │\n",
       "│ Temple     ┆            ┆            ┆           ┆   ┆          ┆         ┆          ┆           │\n",
       "│ Abidjan    ┆ null       ┆ null       ┆ null      ┆ … ┆ null     ┆ null    ┆ null     ┆ null      │\n",
       "│ Ivory      ┆            ┆            ┆           ┆   ┆          ┆         ┆          ┆           │\n",
       "│ Coast      ┆            ┆            ┆           ┆   ┆          ┆         ┆          ┆           │\n",
       "│ Temple     ┆            ┆            ┆           ┆   ┆          ┆         ┆          ┆           │\n",
       "│ Accra      ┆ 2.0        ┆ 2.0        ┆ 1.0       ┆ … ┆ null     ┆ null    ┆ null     ┆ null      │\n",
       "│ Ghana      ┆            ┆            ┆           ┆   ┆          ┆         ┆          ┆           │\n",
       "│ Temple     ┆            ┆            ┆           ┆   ┆          ┆         ┆          ┆           │\n",
       "│ Adelaide   ┆ 2.0        ┆ 2.0        ┆ 1.0       ┆ … ┆ null     ┆ null    ┆ null     ┆ null      │\n",
       "│ Australia  ┆            ┆            ┆           ┆   ┆          ┆         ┆          ┆           │\n",
       "│ Temple     ┆            ┆            ┆           ┆   ┆          ┆         ┆          ┆           │\n",
       "│ …          ┆ …          ┆ …          ┆ …         ┆ … ┆ …        ┆ …       ┆ …        ┆ …         │\n",
       "│ Bakersfiel ┆ 2.0        ┆ 2.0        ┆ 1.0       ┆ … ┆ 029      ┆ 003813  ┆ 1        ┆ 060290038 │\n",
       "│ d          ┆            ┆            ┆           ┆   ┆          ┆         ┆          ┆ 131       │\n",
       "│ California ┆            ┆            ┆           ┆   ┆          ┆         ┆          ┆           │\n",
       "│ Temple     ┆            ┆            ┆           ┆   ┆          ┆         ┆          ┆           │\n",
       "│ Bangkok    ┆ null       ┆ null       ┆ null      ┆ … ┆ null     ┆ null    ┆ null     ┆ null      │\n",
       "│ Thailand   ┆            ┆            ┆           ┆   ┆          ┆         ┆          ┆           │\n",
       "│ Temple     ┆            ┆            ┆           ┆   ┆          ┆         ┆          ┆           │\n",
       "│ Barcelona  ┆ 2.0        ┆ 2.0        ┆ 1.0       ┆ … ┆ null     ┆ null    ┆ null     ┆ null      │\n",
       "│ Spain      ┆            ┆            ┆           ┆   ┆          ┆         ┆          ┆           │\n",
       "│ Temple     ┆            ┆            ┆           ┆   ┆          ┆         ┆          ┆           │\n",
       "│ Barranquil ┆ 2.0        ┆ 1.0        ┆ 1.0       ┆ … ┆ null     ┆ null    ┆ null     ┆ null      │\n",
       "│ la         ┆            ┆            ┆           ┆   ┆          ┆         ┆          ┆           │\n",
       "│ Colombia   ┆            ┆            ┆           ┆   ┆          ┆         ┆          ┆           │\n",
       "│ Temple     ┆            ┆            ┆           ┆   ┆          ┆         ┆          ┆           │\n",
       "└────────────┴────────────┴────────────┴───────────┴───┴──────────┴─────────┴──────────┴───────────┘"
      ]
     },
     "execution_count": 8,
     "metadata": {},
     "output_type": "execute_result"
    }
   ],
   "source": [
    "temples.limit(20)"
   ]
  },
  {
   "cell_type": "code",
   "execution_count": 11,
   "metadata": {},
   "outputs": [
    {
     "data": {
      "text/html": [
       "<div><style>\n",
       ".dataframe > thead > tr > th,\n",
       ".dataframe > tbody > tr > td {\n",
       "  text-align: right;\n",
       "  white-space: pre-wrap;\n",
       "}\n",
       "</style>\n",
       "<small>shape: (20, 43)</small><table border=\"1\" class=\"dataframe\"><thead><tr><th>temple</th><th>instructionrooms</th><th>sealingrooms</th><th>baptismrooms</th><th>squarefootage</th><th>acreage</th><th>stakes</th><th>districts</th><th>all_units</th><th>elevation_ft</th><th>tower_spire</th><th>att_tower_spire</th><th>angelmoroni</th><th>announcement</th><th>groundbreaking</th><th>dedication</th><th>temple_urls</th><th>temple_address</th><th>lat</th><th>long</th><th>prophet</th><th>interval</th><th>prophet_start</th><th>prophet_end</th><th>location</th><th>status</th><th>date</th><th>templeOrgId</th><th>templeNameId</th><th>city</th><th>stateRegion</th><th>country</th><th>sortDate</th><th>guess_country</th><th>missing_state</th><th>first_word</th><th>lat_general</th><th>long_general</th><th>STATEFP</th><th>COUNTYFP</th><th>TRACTCE</th><th>BLKGRPCE</th><th>GEOID</th></tr><tr><td>str</td><td>f64</td><td>f64</td><td>f64</td><td>f64</td><td>f64</td><td>f64</td><td>f64</td><td>f64</td><td>f64</td><td>f64</td><td>str</td><td>str</td><td>date</td><td>date</td><td>date</td><td>str</td><td>str</td><td>f64</td><td>f64</td><td>str</td><td>struct[2]</td><td>datetime[μs, UTC]</td><td>datetime[μs, UTC]</td><td>str</td><td>str</td><td>str</td><td>i32</td><td>str</td><td>str</td><td>str</td><td>str</td><td>str</td><td>str</td><td>bool</td><td>str</td><td>f64</td><td>f64</td><td>str</td><td>str</td><td>str</td><td>str</td><td>str</td></tr></thead><tbody><tr><td>&quot;Albuquerque Ne…</td><td>2.0</td><td>3.0</td><td>1.0</td><td>34245.0</td><td>8.5</td><td>14.0</td><td>0.0</td><td>14.0</td><td>null</td><td>1.0</td><td>&quot;Attached&quot;</td><td>&quot;Yes&quot;</td><td>1997-04-04</td><td>1998-06-20</td><td>2000-03-05</td><td>&quot;https://church…</td><td>&quot;10301 San Fran…</td><td>35.167344</td><td>-106.52498</td><td>&quot;Gordon B. Hinc…</td><td>{1995-03-12 00:00:00 UTC,4.064256e8}</td><td>1995-03-12 00:00:00 UTC</td><td>2008-01-27 00:00:00 UTC</td><td>&quot;Albuquerque, N…</td><td>&quot;OPERATING&quot;</td><td>&quot;5 March 2000&quot;</td><td>36550</td><td>&quot;albuquerque-ne…</td><td>&quot;Albuquerque&quot;</td><td>&quot;New Mexico&quot;</td><td>&quot;United States&quot;</td><td>&quot;March 5, 2000&quot;</td><td>null</td><td>false</td><td>&quot;Albuquerque  &quot;</td><td>35.084103</td><td>-106.650985</td><td>&quot;35&quot;</td><td>&quot;001&quot;</td><td>&quot;003730&quot;</td><td>&quot;3&quot;</td><td>&quot;350010037303&quot;</td></tr><tr><td>&quot;Anchorage Alas…</td><td>2.0</td><td>1.0</td><td>1.0</td><td>11937.0</td><td>5.4</td><td>9.0</td><td>0.0</td><td>9.0</td><td>205.1</td><td>1.0</td><td>&quot;Attached&quot;</td><td>&quot;Yes&quot;</td><td>1997-10-04</td><td>1998-04-17</td><td>1999-01-09</td><td>&quot;https://church…</td><td>&quot;13161 Brayton …</td><td>61.101678</td><td>-149.840494</td><td>&quot;Gordon B. Hinc…</td><td>{1995-03-12 00:00:00 UTC,4.064256e8}</td><td>1995-03-12 00:00:00 UTC</td><td>2008-01-27 00:00:00 UTC</td><td>&quot;Anchorage, Ala…</td><td>&quot;OPERATING&quot;</td><td>&quot;9 January 1999…</td><td>36551</td><td>&quot;anchorage-alas…</td><td>&quot;Anchorage&quot;</td><td>&quot;Alaska&quot;</td><td>&quot;United States&quot;</td><td>&quot;January 9, 199…</td><td>null</td><td>false</td><td>&quot;Anchorage  &quot;</td><td>61.216313</td><td>-149.894852</td><td>&quot;02&quot;</td><td>&quot;020&quot;</td><td>&quot;002821&quot;</td><td>&quot;1&quot;</td><td>&quot;020200028211&quot;</td></tr><tr><td>&quot;Atlanta Georgi…</td><td>4.0</td><td>4.0</td><td>1.0</td><td>34500.0</td><td>9.6</td><td>17.0</td><td>0.0</td><td>17.0</td><td>null</td><td>1.0</td><td>&quot;Attached&quot;</td><td>&quot;Yes&quot;</td><td>1980-04-02</td><td>1981-03-07</td><td>1983-06-01</td><td>&quot;https://church…</td><td>&quot;6450 Barfield …</td><td>33.931737</td><td>-84.36248</td><td>&quot;Spencer W. Kim…</td><td>{1973-12-30 00:00:00 UTC,3.739392e8}</td><td>1973-12-30 00:00:00 UTC</td><td>1985-11-05 00:00:00 UTC</td><td>&quot;Sandy Springs,…</td><td>&quot;OPERATING&quot;</td><td>&quot;1 June 1983&quot;</td><td>29</td><td>&quot;atlanta-georgi…</td><td>&quot;Sandy Springs&quot;</td><td>&quot;Georgia&quot;</td><td>&quot;United States&quot;</td><td>&quot;June 1, 1983&quot;</td><td>null</td><td>false</td><td>&quot;Atlanta  &quot;</td><td>33.924269</td><td>-84.378538</td><td>&quot;13&quot;</td><td>&quot;121&quot;</td><td>&quot;010121&quot;</td><td>&quot;1&quot;</td><td>&quot;131210101211&quot;</td></tr><tr><td>&quot;Austin Texas T…</td><td>2.0</td><td>2.0</td><td>1.0</td><td>30000.0</td><td>10.6</td><td>null</td><td>null</td><td>null</td><td>897.6</td><td>1.0</td><td>&quot;Attached&quot;</td><td>&quot;No&quot;</td><td>2022-04-03</td><td>null</td><td>null</td><td>&quot;https://church…</td><td>&quot;1801 East Park…</td><td>30.51685</td><td>-97.796063</td><td>&quot;Russell M. Nel…</td><td>{2018-01-14 00:00:00 UTC,1.823904e8}</td><td>2018-01-14 00:00:00 UTC</td><td>2023-10-26 00:00:00 UTC</td><td>&quot;Texas, United …</td><td>&quot;ANNOUNCED&quot;</td><td>&quot;Announced&quot;</td><td>4148133</td><td>&quot;austin-texas-t…</td><td>&quot;Austin&quot;</td><td>&quot;Texas&quot;</td><td>&quot;United States&quot;</td><td>&quot;&quot;</td><td>null</td><td>true</td><td>&quot;Austin  &quot;</td><td>30.271129</td><td>-97.7437</td><td>&quot;48&quot;</td><td>&quot;491&quot;</td><td>&quot;020313&quot;</td><td>&quot;1&quot;</td><td>&quot;484910203131&quot;</td></tr><tr><td>&quot;Bakersfield Ca…</td><td>2.0</td><td>2.0</td><td>1.0</td><td>30000.0</td><td>13.07</td><td>null</td><td>null</td><td>null</td><td>366.0</td><td>null</td><td>null</td><td>null</td><td>2023-04-02</td><td>null</td><td>null</td><td>&quot;https://church…</td><td>&quot;Stockdale High…</td><td>35.35391</td><td>-119.13682</td><td>&quot;Russell M. Nel…</td><td>{2018-01-14 00:00:00 UTC,1.823904e8}</td><td>2018-01-14 00:00:00 UTC</td><td>2023-10-26 00:00:00 UTC</td><td>&quot;California, Un…</td><td>&quot;ANNOUNCED&quot;</td><td>&quot;Announced&quot;</td><td>4156616</td><td>&quot;bakersfield-ca…</td><td>&quot;Bakersfield&quot;</td><td>&quot;California&quot;</td><td>&quot;United States&quot;</td><td>&quot;&quot;</td><td>null</td><td>true</td><td>&quot;Bakersfield  &quot;</td><td>35.373871</td><td>-119.019464</td><td>&quot;06&quot;</td><td>&quot;029&quot;</td><td>&quot;003813&quot;</td><td>&quot;1&quot;</td><td>&quot;060290038131&quot;</td></tr><tr><td>&quot;Baton Rouge Lo…</td><td>2.0</td><td>2.0</td><td>1.0</td><td>10890.0</td><td>6.3</td><td>9.0</td><td>0.0</td><td>9.0</td><td>18.0</td><td>1.0</td><td>&quot;Attached&quot;</td><td>&quot;Yes&quot;</td><td>1998-10-14</td><td>1999-05-08</td><td>2000-07-16</td><td>&quot;https://church…</td><td>&quot;10339 Highland…</td><td>30.362681</td><td>-91.108439</td><td>&quot;Gordon B. Hinc…</td><td>{1995-03-12 00:00:00 UTC,4.064256e8}</td><td>1995-03-12 00:00:00 UTC</td><td>2008-01-27 00:00:00 UTC</td><td>&quot;Baton Rouge, L…</td><td>&quot;OPERATING&quot;</td><td>&quot;16 July 2000&quot;</td><td>36984</td><td>&quot;baton-rouge-lo…</td><td>&quot;Baton Rouge&quot;</td><td>&quot;Louisiana&quot;</td><td>&quot;United States&quot;</td><td>&quot;July 16, 2000&quot;</td><td>null</td><td>false</td><td>&quot;Baton Rouge  &quot;</td><td>30.449416</td><td>-91.186966</td><td>&quot;22&quot;</td><td>&quot;033&quot;</td><td>&quot;004005&quot;</td><td>&quot;4&quot;</td><td>&quot;220330040054&quot;</td></tr><tr><td>&quot;Bentonville Ar…</td><td>2.0</td><td>2.0</td><td>1.0</td><td>28472.0</td><td>18.62</td><td>8.0</td><td>0.0</td><td>8.0</td><td>null</td><td>1.0</td><td>&quot;Attached&quot;</td><td>&quot;No&quot;</td><td>2019-10-05</td><td>2020-11-07</td><td>2023-09-17</td><td>&quot;https://church…</td><td>&quot;1105 McCollum …</td><td>36.3854</td><td>-94.181334</td><td>&quot;Russell M. Nel…</td><td>{2018-01-14 00:00:00 UTC,1.823904e8}</td><td>2018-01-14 00:00:00 UTC</td><td>2023-10-26 00:00:00 UTC</td><td>&quot;Bentonville, A…</td><td>&quot;OPERATING&quot;</td><td>&quot;17 September 2…</td><td>4124793</td><td>&quot;bentonville-ar…</td><td>&quot;Bentonville&quot;</td><td>&quot;Arkansas&quot;</td><td>&quot;United States&quot;</td><td>&quot;September 17, …</td><td>null</td><td>false</td><td>&quot;Bentonville  &quot;</td><td>36.372854</td><td>-94.208817</td><td>&quot;05&quot;</td><td>&quot;007&quot;</td><td>&quot;020501&quot;</td><td>&quot;4&quot;</td><td>&quot;050070205014&quot;</td></tr><tr><td>&quot;Billings Monta…</td><td>2.0</td><td>3.0</td><td>1.0</td><td>33800.0</td><td>10.0</td><td>10.0</td><td>0.0</td><td>10.0</td><td>null</td><td>1.0</td><td>&quot;Attached&quot;</td><td>&quot;Yes&quot;</td><td>1996-08-30</td><td>1998-03-30</td><td>1999-11-20</td><td>&quot;https://church…</td><td>&quot;3100 Rim Point…</td><td>45.800097</td><td>-108.640477</td><td>&quot;Gordon B. Hinc…</td><td>{1995-03-12 00:00:00 UTC,4.064256e8}</td><td>1995-03-12 00:00:00 UTC</td><td>2008-01-27 00:00:00 UTC</td><td>&quot;Billings, Mont…</td><td>&quot;OPERATING&quot;</td><td>&quot;20 November 19…</td><td>58</td><td>&quot;billings-monta…</td><td>&quot;Billings&quot;</td><td>&quot;Montana&quot;</td><td>&quot;United States&quot;</td><td>&quot;November 20, 1…</td><td>null</td><td>false</td><td>&quot;Billings  &quot;</td><td>45.787496</td><td>-108.49607</td><td>&quot;30&quot;</td><td>&quot;111&quot;</td><td>&quot;001801&quot;</td><td>&quot;3&quot;</td><td>&quot;301110018013&quot;</td></tr><tr><td>&quot;Birmingham Ala…</td><td>2.0</td><td>2.0</td><td>1.0</td><td>10700.0</td><td>5.6</td><td>10.0</td><td>0.0</td><td>10.0</td><td>662.0</td><td>1.0</td><td>&quot;Attached&quot;</td><td>&quot;Yes&quot;</td><td>1998-09-11</td><td>1999-10-09</td><td>2000-09-03</td><td>&quot;https://church…</td><td>&quot;1927 Mount Oli…</td><td>33.674413</td><td>-86.821239</td><td>&quot;Gordon B. Hinc…</td><td>{1995-03-12 00:00:00 UTC,4.064256e8}</td><td>1995-03-12 00:00:00 UTC</td><td>2008-01-27 00:00:00 UTC</td><td>&quot;Gardendale, Al…</td><td>&quot;OPERATING&quot;</td><td>&quot;3 September 20…</td><td>36985</td><td>&quot;birmingham-ala…</td><td>&quot;Gardendale&quot;</td><td>&quot;Alabama&quot;</td><td>&quot;United States&quot;</td><td>&quot;September 3, 2…</td><td>null</td><td>false</td><td>&quot;Birmingham  &quot;</td><td>33.660103</td><td>-86.81277</td><td>&quot;01&quot;</td><td>&quot;073&quot;</td><td>&quot;011703&quot;</td><td>&quot;2&quot;</td><td>&quot;010730117032&quot;</td></tr><tr><td>&quot;Bismarck North…</td><td>2.0</td><td>2.0</td><td>1.0</td><td>10700.0</td><td>1.6</td><td>4.0</td><td>0.0</td><td>4.0</td><td>null</td><td>1.0</td><td>&quot;Attached&quot;</td><td>&quot;Yes&quot;</td><td>1998-07-29</td><td>1998-10-17</td><td>1999-09-19</td><td>&quot;https://church…</td><td>&quot;2930 Cody Dr, …</td><td>46.838978</td><td>-100.814026</td><td>&quot;Gordon B. Hinc…</td><td>{1995-03-12 00:00:00 UTC,4.064256e8}</td><td>1995-03-12 00:00:00 UTC</td><td>2008-01-27 00:00:00 UTC</td><td>&quot;Bismarck, Nort…</td><td>&quot;OPERATING&quot;</td><td>&quot;19 September 1…</td><td>36552</td><td>&quot;bismarck-north…</td><td>&quot;Bismarck&quot;</td><td>&quot;North Dakota&quot;</td><td>&quot;United States&quot;</td><td>&quot;September 19, …</td><td>null</td><td>false</td><td>&quot;Bismarck  &quot;</td><td>46.808327</td><td>-100.783739</td><td>&quot;38&quot;</td><td>&quot;015&quot;</td><td>&quot;011103&quot;</td><td>&quot;1&quot;</td><td>&quot;380150111031&quot;</td></tr><tr><td>&quot;Boise Idaho Te…</td><td>4.0</td><td>4.0</td><td>1.0</td><td>35868.0</td><td>4.83</td><td>16.0</td><td>0.0</td><td>16.0</td><td>null</td><td>6.0</td><td>&quot;Detached&quot;</td><td>&quot;Yes&quot;</td><td>1982-03-31</td><td>1982-12-18</td><td>1984-05-25</td><td>&quot;https://church…</td><td>&quot;1211 S Cole Rd…</td><td>43.593518</td><td>-116.275304</td><td>&quot;Spencer W. Kim…</td><td>{1973-12-30 00:00:00 UTC,3.739392e8}</td><td>1973-12-30 00:00:00 UTC</td><td>1985-11-05 00:00:00 UTC</td><td>&quot;Boise, Idaho, …</td><td>&quot;OPERATING&quot;</td><td>&quot;25 May 1984&quot;</td><td>23</td><td>&quot;boise-idaho-te…</td><td>&quot;Boise&quot;</td><td>&quot;Idaho&quot;</td><td>&quot;United States&quot;</td><td>&quot;May 25, 1984&quot;</td><td>null</td><td>false</td><td>&quot;Boise  &quot;</td><td>43.616616</td><td>-116.200886</td><td>&quot;16&quot;</td><td>&quot;001&quot;</td><td>&quot;001900&quot;</td><td>&quot;3&quot;</td><td>&quot;160010019003&quot;</td></tr><tr><td>&quot;Boston Massach…</td><td>4.0</td><td>4.0</td><td>1.0</td><td>69600.0</td><td>8.0</td><td>13.0</td><td>0.0</td><td>13.0</td><td>331.2</td><td>1.0</td><td>&quot;Attached&quot;</td><td>&quot;Yes&quot;</td><td>1995-09-30</td><td>1997-06-13</td><td>2000-10-01</td><td>&quot;https://church…</td><td>&quot;100 Hinckley W…</td><td>42.411987</td><td>-71.188143</td><td>&quot;Gordon B. Hinc…</td><td>{1995-03-12 00:00:00 UTC,4.064256e8}</td><td>1995-03-12 00:00:00 UTC</td><td>2008-01-27 00:00:00 UTC</td><td>&quot;Belmont, Massa…</td><td>&quot;OPERATING&quot;</td><td>&quot;1 October 2000…</td><td>17</td><td>&quot;boston-massach…</td><td>&quot;Belmont&quot;</td><td>&quot;Massachusetts&quot;</td><td>&quot;United States&quot;</td><td>&quot;October 1, 200…</td><td>null</td><td>false</td><td>&quot;Boston  &quot;</td><td>42.39593</td><td>-71.178665</td><td>&quot;25&quot;</td><td>&quot;017&quot;</td><td>&quot;357800&quot;</td><td>&quot;1&quot;</td><td>&quot;250173578001&quot;</td></tr><tr><td>&quot;Bountiful Utah…</td><td>4.0</td><td>8.0</td><td>1.0</td><td>104000.0</td><td>9.0</td><td>51.0</td><td>0.0</td><td>51.0</td><td>null</td><td>1.0</td><td>&quot;Attached&quot;</td><td>&quot;Yes&quot;</td><td>1990-02-02</td><td>1992-05-02</td><td>1995-01-08</td><td>&quot;https://church…</td><td>&quot;640 S Bountifu…</td><td>40.882878</td><td>-111.846817</td><td>&quot;Ezra Taft Bens…</td><td>{1985-11-10 00:00:00 UTC,2.698272e8}</td><td>1985-11-10 00:00:00 UTC</td><td>1994-05-30 00:00:00 UTC</td><td>&quot;Bountiful, Uta…</td><td>&quot;OPERATING&quot;</td><td>&quot;8 January 1995…</td><td>32</td><td>&quot;bountiful-utah…</td><td>&quot;Bountiful&quot;</td><td>&quot;Utah&quot;</td><td>&quot;United States&quot;</td><td>&quot;January 8, 199…</td><td>null</td><td>false</td><td>&quot;Bountiful  &quot;</td><td>40.889461</td><td>-111.880482</td><td>&quot;49&quot;</td><td>&quot;011&quot;</td><td>&quot;126402&quot;</td><td>&quot;1&quot;</td><td>&quot;490111264021&quot;</td></tr><tr><td>&quot;Brigham City U…</td><td>2.0</td><td>3.0</td><td>1.0</td><td>36000.0</td><td>3.14</td><td>13.0</td><td>0.0</td><td>13.0</td><td>null</td><td>2.0</td><td>&quot;Attached&quot;</td><td>&quot;Yes&quot;</td><td>2009-10-03</td><td>2010-07-31</td><td>2012-09-23</td><td>&quot;https://church…</td><td>&quot;250 S Main St,…</td><td>41.505433</td><td>-112.016843</td><td>&quot;Thomas S. Mons…</td><td>{2008-02-03 00:00:00 UTC,3.128544e8}</td><td>2008-02-03 00:00:00 UTC</td><td>2018-01-02 00:00:00 UTC</td><td>&quot;Brigham City, …</td><td>&quot;OPERATING&quot;</td><td>&quot;23 September 2…</td><td>4007349</td><td>&quot;brigham-city-u…</td><td>&quot;Brigham City&quot;</td><td>&quot;Utah&quot;</td><td>&quot;United States&quot;</td><td>&quot;September 23, …</td><td>null</td><td>false</td><td>&quot;Brigham City  …</td><td>41.511043</td><td>-112.015499</td><td>&quot;49&quot;</td><td>&quot;003&quot;</td><td>&quot;960701&quot;</td><td>&quot;1&quot;</td><td>&quot;490039607011&quot;</td></tr><tr><td>&quot;Burley Idaho T…</td><td>4.0</td><td>3.0</td><td>1.0</td><td>38600.0</td><td>10.1</td><td>null</td><td>null</td><td>null</td><td>null</td><td>1.0</td><td>&quot;Attached&quot;</td><td>&quot;No&quot;</td><td>2021-04-04</td><td>2022-06-04</td><td>null</td><td>&quot;https://church…</td><td>&quot;40 South and 1…</td><td>42.412</td><td>-113.57671</td><td>&quot;Russell M. Nel…</td><td>{2018-01-14 00:00:00 UTC,1.823904e8}</td><td>2018-01-14 00:00:00 UTC</td><td>2023-10-26 00:00:00 UTC</td><td>&quot;United States&quot;</td><td>&quot;CONSTRUCTION&quot;</td><td>&quot;Construction&quot;</td><td>4138365</td><td>&quot;burley-idaho-t…</td><td>&quot;Burley&quot;</td><td>&quot;Idaho&quot;</td><td>&quot;United States&quot;</td><td>&quot;&quot;</td><td>null</td><td>false</td><td>&quot;Burley  &quot;</td><td>42.535743</td><td>-113.792794</td><td>&quot;16&quot;</td><td>&quot;031&quot;</td><td>&quot;950100&quot;</td><td>&quot;2&quot;</td><td>&quot;160319501002&quot;</td></tr><tr><td>&quot;Casper Wyoming…</td><td>1.0</td><td>1.0</td><td>1.0</td><td>10000.0</td><td>9.5</td><td>null</td><td>null</td><td>null</td><td>null</td><td>1.0</td><td>&quot;Attached&quot;</td><td>&quot;No&quot;</td><td>2021-04-04</td><td>2021-10-09</td><td>null</td><td>&quot;https://church…</td><td>&quot;2905 Independe…</td><td>42.809589</td><td>-106.361597</td><td>&quot;Russell M. Nel…</td><td>{2018-01-14 00:00:00 UTC,1.823904e8}</td><td>2018-01-14 00:00:00 UTC</td><td>2023-10-26 00:00:00 UTC</td><td>&quot;Casper, Wyomin…</td><td>&quot;CONSTRUCTION&quot;</td><td>&quot;Construction&quot;</td><td>4138362</td><td>&quot;casper-wyoming…</td><td>&quot;Casper&quot;</td><td>&quot;Wyoming&quot;</td><td>&quot;United States&quot;</td><td>&quot;&quot;</td><td>null</td><td>false</td><td>&quot;Casper  &quot;</td><td>42.850119</td><td>-106.325138</td><td>&quot;56&quot;</td><td>&quot;025&quot;</td><td>&quot;000901&quot;</td><td>&quot;3&quot;</td><td>&quot;560250009013&quot;</td></tr><tr><td>&quot;Cedar City Uta…</td><td>2.0</td><td>3.0</td><td>1.0</td><td>42657.0</td><td>9.5</td><td>17.0</td><td>0.0</td><td>17.0</td><td>null</td><td>1.0</td><td>&quot;Attached&quot;</td><td>&quot;Yes&quot;</td><td>2013-04-06</td><td>2015-08-08</td><td>2017-12-10</td><td>&quot;https://church…</td><td>&quot;280 South Cove…</td><td>37.671627</td><td>-113.096292</td><td>&quot;Thomas S. Mons…</td><td>{2008-02-03 00:00:00 UTC,3.128544e8}</td><td>2008-02-03 00:00:00 UTC</td><td>2018-01-02 00:00:00 UTC</td><td>&quot;Cedar City, Ut…</td><td>&quot;OPERATING&quot;</td><td>&quot;10 December 20…</td><td>4028590</td><td>&quot;cedar-city-uta…</td><td>&quot;Cedar City&quot;</td><td>&quot;Utah&quot;</td><td>&quot;United States&quot;</td><td>&quot;December 10, 2…</td><td>null</td><td>false</td><td>&quot;Cedar City  &quot;</td><td>37.677424</td><td>-113.061827</td><td>&quot;49&quot;</td><td>&quot;021&quot;</td><td>&quot;110701&quot;</td><td>&quot;2&quot;</td><td>&quot;490211107012&quot;</td></tr><tr><td>&quot;Charlotte Nort…</td><td>null</td><td>null</td><td>null</td><td>30000.0</td><td>5.9</td><td>null</td><td>null</td><td>null</td><td>705.3</td><td>null</td><td>null</td><td>null</td><td>2023-04-02</td><td>null</td><td>null</td><td>&quot;https://church…</td><td>&quot;345 Providence…</td><td>35.0078</td><td>-80.76667</td><td>&quot;Russell M. Nel…</td><td>{2018-01-14 00:00:00 UTC,1.823904e8}</td><td>2018-01-14 00:00:00 UTC</td><td>2023-10-26 00:00:00 UTC</td><td>&quot;North Carolina…</td><td>&quot;ANNOUNCED&quot;</td><td>&quot;Announced&quot;</td><td>4156619</td><td>&quot;charlotte-nort…</td><td>&quot;Charlotte&quot;</td><td>&quot;North Carolina…</td><td>&quot;United States&quot;</td><td>&quot;&quot;</td><td>null</td><td>true</td><td>&quot;Charlotte  &quot;</td><td>35.227209</td><td>-80.843083</td><td>&quot;37&quot;</td><td>&quot;179&quot;</td><td>&quot;021010&quot;</td><td>&quot;3&quot;</td><td>&quot;371790210103&quot;</td></tr><tr><td>&quot;Chicago Illino…</td><td>5.0</td><td>3.0</td><td>1.0</td><td>37062.0</td><td>13.0</td><td>13.0</td><td>0.0</td><td>13.0</td><td>685.4</td><td>6.0</td><td>&quot;Detached&quot;</td><td>&quot;Yes&quot;</td><td>1981-04-01</td><td>1983-08-13</td><td>1985-08-09</td><td>&quot;https://church…</td><td>&quot;4151 W Lake Av…</td><td>42.08664</td><td>-87.8595</td><td>&quot;Spencer W. Kim…</td><td>{1973-12-30 00:00:00 UTC,3.739392e8}</td><td>1973-12-30 00:00:00 UTC</td><td>1985-11-05 00:00:00 UTC</td><td>&quot;Glenview, Illi…</td><td>&quot;OPERATING&quot;</td><td>&quot;9 August 1985&quot;</td><td>24</td><td>&quot;chicago-illino…</td><td>&quot;Glenview&quot;</td><td>&quot;Illinois&quot;</td><td>&quot;United States&quot;</td><td>&quot;August 9, 1985…</td><td>null</td><td>false</td><td>&quot;Chicago  &quot;</td><td>42.070066</td><td>-87.811404</td><td>&quot;17&quot;</td><td>&quot;031&quot;</td><td>&quot;801607&quot;</td><td>&quot;2&quot;</td><td>&quot;170318016072&quot;</td></tr><tr><td>&quot;Cleveland Ohio…</td><td>1.0</td><td>1.0</td><td>1.0</td><td>9900.0</td><td>null</td><td>null</td><td>null</td><td>null</td><td>733.0</td><td>null</td><td>null</td><td>null</td><td>2022-04-03</td><td>null</td><td>null</td><td>&quot;https://church…</td><td>&quot;Brecksville Ro…</td><td>41.401006</td><td>-81.635726</td><td>&quot;Russell M. Nel…</td><td>{2018-01-14 00:00:00 UTC,1.823904e8}</td><td>2018-01-14 00:00:00 UTC</td><td>2023-10-26 00:00:00 UTC</td><td>&quot;Ohio, United S…</td><td>&quot;ANNOUNCED&quot;</td><td>&quot;Announced&quot;</td><td>4148131</td><td>&quot;cleveland-ohio…</td><td>&quot;Cleveland&quot;</td><td>&quot;Ohio&quot;</td><td>&quot;United States&quot;</td><td>&quot;&quot;</td><td>null</td><td>true</td><td>&quot;Cleveland  &quot;</td><td>41.499657</td><td>-81.693677</td><td>&quot;39&quot;</td><td>&quot;035&quot;</td><td>&quot;156101&quot;</td><td>&quot;1&quot;</td><td>&quot;390351561011&quot;</td></tr></tbody></table></div>"
      ],
      "text/plain": [
       "shape: (20, 43)\n",
       "┌────────────┬────────────┬────────────┬───────────┬───┬──────────┬─────────┬──────────┬───────────┐\n",
       "│ temple     ┆ instructio ┆ sealingroo ┆ baptismro ┆ … ┆ COUNTYFP ┆ TRACTCE ┆ BLKGRPCE ┆ GEOID     │\n",
       "│ ---        ┆ nrooms     ┆ ms         ┆ oms       ┆   ┆ ---      ┆ ---     ┆ ---      ┆ ---       │\n",
       "│ str        ┆ ---        ┆ ---        ┆ ---       ┆   ┆ str      ┆ str     ┆ str      ┆ str       │\n",
       "│            ┆ f64        ┆ f64        ┆ f64       ┆   ┆          ┆         ┆          ┆           │\n",
       "╞════════════╪════════════╪════════════╪═══════════╪═══╪══════════╪═════════╪══════════╪═══════════╡\n",
       "│ Albuquerqu ┆ 2.0        ┆ 3.0        ┆ 1.0       ┆ … ┆ 001      ┆ 003730  ┆ 3        ┆ 350010037 │\n",
       "│ e New      ┆            ┆            ┆           ┆   ┆          ┆         ┆          ┆ 303       │\n",
       "│ Mexico     ┆            ┆            ┆           ┆   ┆          ┆         ┆          ┆           │\n",
       "│ Temple     ┆            ┆            ┆           ┆   ┆          ┆         ┆          ┆           │\n",
       "│ Anchorage  ┆ 2.0        ┆ 1.0        ┆ 1.0       ┆ … ┆ 020      ┆ 002821  ┆ 1        ┆ 020200028 │\n",
       "│ Alaska     ┆            ┆            ┆           ┆   ┆          ┆         ┆          ┆ 211       │\n",
       "│ Temple     ┆            ┆            ┆           ┆   ┆          ┆         ┆          ┆           │\n",
       "│ Atlanta    ┆ 4.0        ┆ 4.0        ┆ 1.0       ┆ … ┆ 121      ┆ 010121  ┆ 1        ┆ 131210101 │\n",
       "│ Georgia    ┆            ┆            ┆           ┆   ┆          ┆         ┆          ┆ 211       │\n",
       "│ Temple     ┆            ┆            ┆           ┆   ┆          ┆         ┆          ┆           │\n",
       "│ Austin     ┆ 2.0        ┆ 2.0        ┆ 1.0       ┆ … ┆ 491      ┆ 020313  ┆ 1        ┆ 484910203 │\n",
       "│ Texas      ┆            ┆            ┆           ┆   ┆          ┆         ┆          ┆ 131       │\n",
       "│ Temple     ┆            ┆            ┆           ┆   ┆          ┆         ┆          ┆           │\n",
       "│ …          ┆ …          ┆ …          ┆ …         ┆ … ┆ …        ┆ …       ┆ …        ┆ …         │\n",
       "│ Cedar City ┆ 2.0        ┆ 3.0        ┆ 1.0       ┆ … ┆ 021      ┆ 110701  ┆ 2        ┆ 490211107 │\n",
       "│ Utah       ┆            ┆            ┆           ┆   ┆          ┆         ┆          ┆ 012       │\n",
       "│ Temple     ┆            ┆            ┆           ┆   ┆          ┆         ┆          ┆           │\n",
       "│ Charlotte  ┆ null       ┆ null       ┆ null      ┆ … ┆ 179      ┆ 021010  ┆ 3        ┆ 371790210 │\n",
       "│ North      ┆            ┆            ┆           ┆   ┆          ┆         ┆          ┆ 103       │\n",
       "│ Carolina   ┆            ┆            ┆           ┆   ┆          ┆         ┆          ┆           │\n",
       "│ Temple     ┆            ┆            ┆           ┆   ┆          ┆         ┆          ┆           │\n",
       "│ Chicago    ┆ 5.0        ┆ 3.0        ┆ 1.0       ┆ … ┆ 031      ┆ 801607  ┆ 2        ┆ 170318016 │\n",
       "│ Illinois   ┆            ┆            ┆           ┆   ┆          ┆         ┆          ┆ 072       │\n",
       "│ Temple     ┆            ┆            ┆           ┆   ┆          ┆         ┆          ┆           │\n",
       "│ Cleveland  ┆ 1.0        ┆ 1.0        ┆ 1.0       ┆ … ┆ 035      ┆ 156101  ┆ 1        ┆ 390351561 │\n",
       "│ Ohio       ┆            ┆            ┆           ┆   ┆          ┆         ┆          ┆ 011       │\n",
       "│ Temple     ┆            ┆            ┆           ┆   ┆          ┆         ┆          ┆           │\n",
       "└────────────┴────────────┴────────────┴───────────┴───┴──────────┴─────────┴──────────┴───────────┘"
      ]
     },
     "execution_count": 11,
     "metadata": {},
     "output_type": "execute_result"
    }
   ],
   "source": [
    "temples_us = temples.filter(pl.col(\"country\") == \"United States\")\n",
    "temples_us.limit(20)"
   ]
  },
  {
   "cell_type": "code",
   "execution_count": 9,
   "metadata": {},
   "outputs": [
    {
     "data": {
      "text/html": [
       "<div><style>\n",
       ".dataframe > thead > tr > th,\n",
       ".dataframe > tbody > tr > td {\n",
       "  text-align: right;\n",
       "  white-space: pre-wrap;\n",
       "}\n",
       "</style>\n",
       "<small>shape: (5, 4)</small><table border=\"1\" class=\"dataframe\"><thead><tr><th>tract</th><th>name</th><th>meters</th><th>miles</th></tr><tr><td>str</td><td>str</td><td>f64</td><td>f64</td></tr></thead><tbody><tr><td>&quot;36061014900&quot;</td><td>&quot;manhattan-new-…</td><td>107.248949</td><td>0.066641</td></tr><tr><td>&quot;49049002400&quot;</td><td>&quot;provo-city-cen…</td><td>163.378405</td><td>0.101519</td></tr><tr><td>&quot;41039002101&quot;</td><td>&quot;willamette-val…</td><td>207.090472</td><td>0.12868</td></tr><tr><td>&quot;06019004214&quot;</td><td>&quot;fresno-califor…</td><td>214.053264</td><td>0.133007</td></tr><tr><td>&quot;36061015300&quot;</td><td>&quot;manhattan-new-…</td><td>216.699319</td><td>0.134651</td></tr></tbody></table></div>"
      ],
      "text/plain": [
       "shape: (5, 4)\n",
       "┌─────────────┬─────────────────────────────────┬────────────┬──────────┐\n",
       "│ tract       ┆ name                            ┆ meters     ┆ miles    │\n",
       "│ ---         ┆ ---                             ┆ ---        ┆ ---      │\n",
       "│ str         ┆ str                             ┆ f64        ┆ f64      │\n",
       "╞═════════════╪═════════════════════════════════╪════════════╪══════════╡\n",
       "│ 36061014900 ┆ manhattan-new-york-temple       ┆ 107.248949 ┆ 0.066641 │\n",
       "│ 49049002400 ┆ provo-city-center-temple        ┆ 163.378405 ┆ 0.101519 │\n",
       "│ 41039002101 ┆ willamette-valley-oregon-temple ┆ 207.090472 ┆ 0.12868  │\n",
       "│ 06019004214 ┆ fresno-california-temple        ┆ 214.053264 ┆ 0.133007 │\n",
       "│ 36061015300 ┆ manhattan-new-york-temple       ┆ 216.699319 ┆ 0.134651 │\n",
       "└─────────────┴─────────────────────────────────┴────────────┴──────────┘"
      ]
     },
     "execution_count": 9,
     "metadata": {},
     "output_type": "execute_result"
    }
   ],
   "source": [
    "tract_nearest.limit(5)"
   ]
  },
  {
   "cell_type": "code",
   "execution_count": null,
   "metadata": {},
   "outputs": [],
   "source": []
  }
 ],
 "metadata": {
  "kernelspec": {
   "display_name": "Python 3",
   "language": "python",
   "name": "python3"
  },
  "language_info": {
   "codemirror_mode": {
    "name": "ipython",
    "version": 3
   },
   "file_extension": ".py",
   "mimetype": "text/x-python",
   "name": "python",
   "nbconvert_exporter": "python",
   "pygments_lexer": "ipython3",
   "version": "3.11.5"
  }
 },
 "nbformat": 4,
 "nbformat_minor": 2
}
