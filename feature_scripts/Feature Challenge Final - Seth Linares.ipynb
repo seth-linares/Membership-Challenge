{
 "cells": [
  {
   "cell_type": "markdown",
   "metadata": {
    "application/vnd.databricks.v1+cell": {
     "cellMetadata": {
      "byteLimit": 2048000,
      "rowLimit": 10000
     },
     "inputWidgets": {},
     "nuid": "7cf6719e-3bf7-43f9-9473-23a81f7e03a4",
     "showTitle": false,
     "title": ""
    }
   },
   "source": [
    "# These worked on Databricks so it should work when you check them"
   ]
  },
  {
   "cell_type": "code",
   "execution_count": null,
   "metadata": {
    "application/vnd.databricks.v1+cell": {
     "cellMetadata": {
      "byteLimit": 2048000,
      "rowLimit": 10000
     },
     "inputWidgets": {},
     "nuid": "50a7f7b3-7d1d-4e6e-b88a-257a101e1098",
     "showTitle": false,
     "title": ""
    }
   },
   "outputs": [],
   "source": [
    "from pyspark.sql import functions as F\n",
    "import plotly.express as px\n",
    "import matplotlib.pyplot as plt\n",
    "\n",
    "\n"
   ]
  },
  {
   "cell_type": "code",
   "execution_count": null,
   "metadata": {
    "application/vnd.databricks.v1+cell": {
     "cellMetadata": {
      "byteLimit": 2048000,
      "rowLimit": 10000
     },
     "inputWidgets": {},
     "nuid": "6843efbd-8cb5-4879-af37-ac1953ae6600",
     "showTitle": false,
     "title": ""
    }
   },
   "outputs": [],
   "source": []
  },
  {
   "cell_type": "code",
   "execution_count": null,
   "metadata": {
    "application/vnd.databricks.v1+cell": {
     "cellMetadata": {
      "byteLimit": 2048000,
      "rowLimit": 10000
     },
     "inputWidgets": {},
     "nuid": "82ff6560-ab29-46bc-a8f5-95af59697fae",
     "showTitle": false,
     "title": ""
    }
   },
   "outputs": [],
   "source": [
    "cbg = spark.table(\"safegraph.censusblockgroup_pkmap\")\n",
    "patterns = spark.table(\"safegraph.patterns\")\n",
    "places = spark.table(\"safegraph.places\")\n",
    "tract_members = spark.table(\"membership.tract_membership\")\n",
    "tract_member_info = spark.table(\"membership.tract_membership_populations\")\n",
    "census_table = spark.table(\"safegraph.censusmapping\")\n",
    "tract_spatial = spark.table(\"census.tract_spatial\")\n",
    "tract_distance_temple = spark.table(\"census.tract_distance_to_nearest_temple\")"
   ]
  },
  {
   "cell_type": "code",
   "execution_count": null,
   "metadata": {
    "application/vnd.databricks.v1+cell": {
     "cellMetadata": {
      "byteLimit": 2048000,
      "rowLimit": 10000
     },
     "inputWidgets": {},
     "nuid": "cf7ade42-ae82-4966-81c5-78d7721dc1a3",
     "showTitle": false,
     "title": ""
    }
   },
   "outputs": [],
   "source": [
    "census_block = spark.table(\"safegraph.censusblock_table\")\n",
    "tract_population = spark.table(\"census.tractpopulations\")\n"
   ]
  },
  {
   "cell_type": "markdown",
   "metadata": {
    "application/vnd.databricks.v1+cell": {
     "cellMetadata": {
      "byteLimit": 2048000,
      "rowLimit": 10000
     },
     "inputWidgets": {},
     "nuid": "572ed81a-33a0-4706-bfdd-96ace10525f3",
     "showTitle": false,
     "title": ""
    }
   },
   "source": [
    "# Simple Feature: Population Density"
   ]
  },
  {
   "cell_type": "code",
   "execution_count": null,
   "metadata": {
    "application/vnd.databricks.v1+cell": {
     "cellMetadata": {
      "byteLimit": 2048000,
      "rowLimit": 10000
     },
     "inputWidgets": {},
     "nuid": "0a7e7aa7-1d17-4a2b-9b67-cf64b8880c05",
     "showTitle": false,
     "title": ""
    }
   },
   "outputs": [],
   "source": [
    "joined_data = census_block.join(tract_population, census_block.tractcode == tract_population.tractcode, how=\"inner\")\n"
   ]
  },
  {
   "cell_type": "code",
   "execution_count": null,
   "metadata": {
    "application/vnd.databricks.v1+cell": {
     "cellMetadata": {
      "byteLimit": 2048000,
      "rowLimit": 10000
     },
     "inputWidgets": {},
     "nuid": "5a5e38fd-6912-44cb-bed0-f822edd9e763",
     "showTitle": false,
     "title": ""
    }
   },
   "outputs": [],
   "source": [
    "display(joined_data)"
   ]
  },
  {
   "cell_type": "code",
   "execution_count": null,
   "metadata": {
    "application/vnd.databricks.v1+cell": {
     "cellMetadata": {
      "byteLimit": 2048000,
      "rowLimit": 10000
     },
     "inputWidgets": {},
     "nuid": "7a3488d9-8e88-496c-9cec-a4fdb919fb8d",
     "showTitle": false,
     "title": ""
    }
   },
   "outputs": [],
   "source": [
    "density_data = joined_data.withColumn(\"population_density\", F.col(\"population\") / F.col(\"land_m\"))\n"
   ]
  },
  {
   "cell_type": "code",
   "execution_count": null,
   "metadata": {
    "application/vnd.databricks.v1+cell": {
     "cellMetadata": {
      "byteLimit": 2048000,
      "rowLimit": 10000
     },
     "inputWidgets": {},
     "nuid": "9028a435-f7cd-48a4-86c8-4721d64f4f82",
     "showTitle": false,
     "title": ""
    }
   },
   "outputs": [],
   "source": []
  },
  {
   "cell_type": "code",
   "execution_count": null,
   "metadata": {
    "application/vnd.databricks.v1+cell": {
     "cellMetadata": {
      "byteLimit": 2048000,
      "rowLimit": 10000
     },
     "inputWidgets": {},
     "nuid": "e733c124-8290-4026-b060-be877bbc017a",
     "showTitle": false,
     "title": ""
    }
   },
   "outputs": [],
   "source": [
    "tract_members = tract_members.withColumnRenamed(\"home\", \"tractcode\")\n",
    "display(tract_members)"
   ]
  },
  {
   "cell_type": "code",
   "execution_count": null,
   "metadata": {
    "application/vnd.databricks.v1+cell": {
     "cellMetadata": {
      "byteLimit": 2048000,
      "rowLimit": 10000
     },
     "inputWidgets": {},
     "nuid": "48e12461-1476-490d-9bb7-3fc62ed09734",
     "showTitle": false,
     "title": ""
    }
   },
   "outputs": [],
   "source": [
    "display(density_data)"
   ]
  },
  {
   "cell_type": "code",
   "execution_count": null,
   "metadata": {
    "application/vnd.databricks.v1+cell": {
     "cellMetadata": {
      "byteLimit": 2048000,
      "rowLimit": 10000
     },
     "inputWidgets": {},
     "nuid": "073e0ad7-d80b-4990-bc64-5aeb49b26bd9",
     "showTitle": false,
     "title": ""
    }
   },
   "outputs": [],
   "source": [
    "visualization_data = density_data.join(tract_members, on=\"tractcode\", how=\"inner\")\n",
    "\n",
    "display(visualization_data)\n",
    "\n"
   ]
  },
  {
   "cell_type": "code",
   "execution_count": null,
   "metadata": {
    "application/vnd.databricks.v1+cell": {
     "cellMetadata": {
      "byteLimit": 2048000,
      "rowLimit": 10000
     },
     "inputWidgets": {},
     "nuid": "06976e72-fa2e-4ea3-9669-dcafce239028",
     "showTitle": false,
     "title": ""
    }
   },
   "outputs": [],
   "source": [
    "display(visualization_data)"
   ]
  },
  {
   "cell_type": "code",
   "execution_count": null,
   "metadata": {
    "application/vnd.databricks.v1+cell": {
     "cellMetadata": {
      "byteLimit": 2048000,
      "rowLimit": 10000
     },
     "inputWidgets": {},
     "nuid": "2428a58e-4580-48fe-8a71-a52e3668a6d5",
     "showTitle": false,
     "title": ""
    }
   },
   "outputs": [],
   "source": [
    "visualization_data = visualization_data.select(\"lat\", \"long\", \"population_density\", tract_members.tractcode, \"active_members_estimate\")\n",
    "\n",
    "display(visualization_data)\n"
   ]
  },
  {
   "cell_type": "code",
   "execution_count": null,
   "metadata": {
    "application/vnd.databricks.v1+cell": {
     "cellMetadata": {
      "byteLimit": 2048000,
      "rowLimit": 10000
     },
     "inputWidgets": {},
     "nuid": "9db90fdd-0c14-4b46-a5d1-e698a7103f78",
     "showTitle": false,
     "title": ""
    }
   },
   "outputs": [],
   "source": [
    "pandas_density_data  = visualization_data.select(\"lat\", \"long\", \"population_density\").limit(100000).toPandas()\n",
    "\n"
   ]
  },
  {
   "cell_type": "code",
   "execution_count": null,
   "metadata": {
    "application/vnd.databricks.v1+cell": {
     "cellMetadata": {
      "byteLimit": 2048000,
      "rowLimit": 10000
     },
     "inputWidgets": {},
     "nuid": "4ef3af62-0a76-4c81-81e9-e664eb167ecd",
     "showTitle": false,
     "title": ""
    }
   },
   "outputs": [],
   "source": [
    "pandas_density_data = pandas_density_data.dropna(subset=[\"population_density\"])"
   ]
  },
  {
   "cell_type": "code",
   "execution_count": null,
   "metadata": {
    "application/vnd.databricks.v1+cell": {
     "cellMetadata": {
      "byteLimit": 2048000,
      "rowLimit": 10000
     },
     "inputWidgets": {},
     "nuid": "2c3bd8a9-637e-4ba7-8dcd-7c3845123899",
     "showTitle": false,
     "title": ""
    }
   },
   "outputs": [],
   "source": [
    "fig = px.scatter_mapbox(pandas_density_data, \n",
    "                        lat=\"lat\", \n",
    "                        lon=\"long\", \n",
    "                        size=\"population_density\", \n",
    "                        color=\"population_density\",\n",
    "                        color_continuous_scale=px.colors.cyclical.IceFire, \n",
    "                        size_max=50, \n",
    "                        zoom=10)\n",
    "\n",
    "\n",
    "fig.update_layout(mapbox_style=\"open-street-map\")\n",
    "fig.update_layout(margin={\"r\":0,\"t\":0,\"l\":0,\"b\":0})\n",
    "fig.show()\n",
    "\n"
   ]
  },
  {
   "cell_type": "markdown",
   "metadata": {
    "application/vnd.databricks.v1+cell": {
     "cellMetadata": {
      "byteLimit": 2048000,
      "rowLimit": 10000
     },
     "inputWidgets": {},
     "nuid": "a3d97898-31bc-4967-9653-fd656b1e9ee1",
     "showTitle": false,
     "title": ""
    }
   },
   "source": [
    "# Actual Feature\n",
    "\n",
    "## Had trouble pulling it down but this is it if you actually want to have it"
   ]
  },
  {
   "cell_type": "code",
   "execution_count": null,
   "metadata": {
    "application/vnd.databricks.v1+cell": {
     "cellMetadata": {
      "byteLimit": 2048000,
      "rowLimit": 10000
     },
     "inputWidgets": {},
     "nuid": "8c40641d-f0eb-4029-a80a-7cbd101e51a7",
     "showTitle": false,
     "title": ""
    }
   },
   "outputs": [],
   "source": [
    "actual_feature = visualization_data.select(\"population_density\", tract_members.tractcode)"
   ]
  },
  {
   "cell_type": "code",
   "execution_count": null,
   "metadata": {
    "application/vnd.databricks.v1+cell": {
     "cellMetadata": {
      "byteLimit": 2048000,
      "rowLimit": 10000
     },
     "inputWidgets": {},
     "nuid": "9338233b-27af-439b-8fe5-26646913b12f",
     "showTitle": false,
     "title": ""
    }
   },
   "outputs": [],
   "source": [
    "display(visualization_data.select(\"population_density\", \"active_members_estimate\"))\n"
   ]
  },
  {
   "cell_type": "markdown",
   "metadata": {
    "application/vnd.databricks.v1+cell": {
     "cellMetadata": {
      "byteLimit": 2048000,
      "rowLimit": 10000
     },
     "inputWidgets": {},
     "nuid": "c35dbc15-b7c2-408d-9795-0161235b673c",
     "showTitle": false,
     "title": ""
    }
   },
   "source": [
    "# Complex Feature: Average Visit Duration by Tract"
   ]
  },
  {
   "cell_type": "code",
   "execution_count": null,
   "metadata": {
    "application/vnd.databricks.v1+cell": {
     "cellMetadata": {
      "byteLimit": 2048000,
      "rowLimit": 10000
     },
     "inputWidgets": {},
     "nuid": "8abad03e-9564-47d3-a9ab-9cb23d4b1f6e",
     "showTitle": false,
     "title": ""
    }
   },
   "outputs": [],
   "source": [
    "patterns = spark.table(\"safegraph.patterns\")\n",
    "places = spark.table(\"safegraph.places\")\n",
    "census_mapping = spark.table(\"safegraph.censusmapping\")\n",
    "tract_members = spark.table(\"membership.tract_membership\")\n",
    "\n"
   ]
  },
  {
   "cell_type": "code",
   "execution_count": null,
   "metadata": {
    "application/vnd.databricks.v1+cell": {
     "cellMetadata": {
      "byteLimit": 2048000,
      "rowLimit": 10000
     },
     "inputWidgets": {},
     "nuid": "f0f06ad8-a651-4f27-97c9-978942a00e5a",
     "showTitle": false,
     "title": ""
    }
   },
   "outputs": [],
   "source": [
    "lds_churches = places.filter(\n",
    "    (F.col(\"top_category\") == \"Religious Organizations\") &\n",
    "    (F.col(\"location_name\").rlike(\"Latter|latter|Saints|saints|LDS|\\b[Ww]ard\\b\")) &\n",
    "    (F.col(\"location_name\").rlike(\"^((?!Reorganized).)*$\")) &\n",
    "    (F.col(\"location_name\").rlike(\"^((?!All Saints).)*$\")) &\n",
    "    (F.col(\"location_name\").rlike(\"^((?![cC]ath).)*$\")) &\n",
    "    (F.col(\"location_name\").rlike(\"^((?![Bb]ody).)*$\")) &\n",
    "    (F.col(\"location_name\").rlike(\"^((?![Pp]eter).)*$\")) &\n",
    "    (F.col(\"location_name\").rlike(\"^((?![Cc]atholic).)*$\")) &\n",
    "    (F.col(\"location_name\").rlike(\"^((?![Pp]res).)*$\")) &\n",
    "    (F.col(\"location_name\").rlike(\"^((?![Mm]inist).)*$\")) &\n",
    "    (F.col(\"location_name\").rlike(\"^((?![Mm]ission).)*$\")) &\n",
    "    (F.col(\"location_name\").rlike(\"^((?![Ww]orship).)*$\")) &\n",
    "    (F.col(\"location_name\").rlike(\"^((?![Rr]ain).)*$\")) &\n",
    "    (F.col(\"location_name\").rlike(\"^((?![Bb]aptist).)*$\")) &\n",
    "    (F.col(\"location_name\").rlike(\"^((?![Mm]eth).)*$\")) &\n",
    "    (F.col(\"location_name\").rlike(\"^((?![Ee]vang).)*$\")) &\n",
    "    (F.col(\"location_name\").rlike(\"^((?![Ll]utheran).)*$\")) &\n",
    "    (F.col(\"location_name\").rlike(\"^((?![Oo]rthodox).)*$\")) &\n",
    "    (F.col(\"location_name\").rlike(\"^((?![Ee]piscopal).)*$\")) &\n",
    "    (F.col(\"location_name\").rlike(\"^((?![Tt]abernacle).)*$\")) &\n",
    "    (F.col(\"location_name\").rlike(\"^((?![Hh]arvest).)*$\")) &\n",
    "    (F.col(\"location_name\").rlike(\"^((?![Aa]ssem).)*$\")) &\n",
    "    (F.col(\"location_name\").rlike(\"^((?![Mm]edia).)*$\")) &\n",
    "    (F.col(\"location_name\").rlike(\"^((?![Mm]artha).)*$\")) &\n",
    "    (F.col(\"location_name\").rlike(\"^((?![Cc]hristian).)*$\")) &\n",
    "    (F.col(\"location_name\").rlike(\"^((?![Uu]nited).)*$\")) &\n",
    "    (F.col(\"location_name\").rlike(\"^((?![Ff]ellowship).)*$\")) &\n",
    "    (F.col(\"location_name\").rlike(\"^((?![Ww]esl).)*$\")) &\n",
    "    (F.col(\"location_name\").rlike(\"^((?![C]cosmas).)*$\")) &\n",
    "    (F.col(\"location_name\").rlike(\"^((?![Gg]reater).)*$\")) &\n",
    "    (F.col(\"location_name\").rlike(\"^((?![Pp]rison).)*$\")) &\n",
    "    (F.col(\"location_name\").rlike(\"^((?![Cc]ommuni).)*$\")) &\n",
    "    (F.col(\"location_name\").rlike(\"^((?![Cc]lement).)*$\")) &\n",
    "    (F.col(\"location_name\").rlike(\"^((?![Vv]iridian).)*$\")) &\n",
    "    (F.col(\"location_name\").rlike(\"^((?![Dd]iocese).)*$\")) &\n",
    "    (F.col(\"location_name\").rlike(\"^((?![Hh]istory).)*$\")) &\n",
    "    (F.col(\"location_name\").rlike(\"^((?![Ss]chool).)*$\")) &\n",
    "    (F.col(\"location_name\").rlike(\"^((?![Tt]hougt).)*$\")) &\n",
    "    (F.col(\"location_name\").rlike(\"^((?![Hh]oliness).)*$\")) &\n",
    "    (F.col(\"location_name\").rlike(\"^((?![Mm]artyr).)*$\")) &\n",
    "    (F.col(\"location_name\").rlike(\"^((?![Jj]ames).)*$\")) &\n",
    "    (F.col(\"location_name\").rlike(\"^((?![Ff]ellowship).)*$\")) &\n",
    "    (F.col(\"location_name\").rlike(\"^((?![Hh]ouse).)*$\")) &\n",
    "    (F.col(\"location_name\").rlike(\"^((?![Gg]lory).)*$\")) &\n",
    "    (F.col(\"location_name\").rlike(\"^((?![Aa]nglican).)*$\")) &\n",
    "    (F.col(\"location_name\").rlike(\"^((?![Pp]oetic).)*$\")) &\n",
    "    (F.col(\"location_name\").rlike(\"^((?![Ss]anctuary).)*$\")) &\n",
    "    (F.col(\"location_name\").rlike(\"^((?![Ee]quipping).)*$\")) &\n",
    "    (F.col(\"location_name\").rlike(\"^((?![Jj]ohn).)*$\")) &\n",
    "    (F.col(\"location_name\").rlike(\"^((?![Aa]ndrew).)*$\")) &\n",
    "    (F.col(\"location_name\").rlike(\"^((?![Ee]manuel).)*$\")) &\n",
    "    (F.col(\"location_name\").rlike(\"^((?![Rr]edeemed).)*$\")) &\n",
    "    (F.col(\"location_name\").rlike(\"^((?![Pp]erfecting).)*$\")) &\n",
    "    (F.col(\"location_name\").rlike(\"^((?![Aa]ngel).)*$\")) &\n",
    "    (F.col(\"location_name\").rlike(\"^((?![Aa]rchangel).)*$\")) &\n",
    "    (F.col(\"location_name\").rlike(\"^((?![Mm]icheal).)*$\")) &\n",
    "    (F.col(\"location_name\").rlike(\"^((?![Tt]hought).)*$\")) &\n",
    "    (F.col(\"location_name\").rlike(\"^((?![Pp]ariosse).)*$\")) &\n",
    "    (F.col(\"location_name\").rlike(\"^((?![Cc]osmas).)*$\")) &\n",
    "    (F.col(\"location_name\").rlike(\"^((?![Dd]eliverance).)*$\")) &\n",
    "    (F.col(\"location_name\").rlike(\"^((?![Ss]ociete).)*$\")) &\n",
    "    (F.col(\"location_name\").rlike(\"^((?![Tt]emple).)*$\")) &\n",
    "    (F.col(\"location_name\").rlike(\"^((?![Ss]eminary).)*$\")) &\n",
    "    (F.col(\"location_name\").rlike(\"^((?![Ee]mployment).)*$\")) &\n",
    "    (F.col(\"location_name\").rlike(\"^((?![Ii]nstitute).)*$\")) &\n",
    "    (F.col(\"location_name\").rlike(\"^((?![Cc]amp).)*$\")) &\n",
    "    (F.col(\"location_name\").rlike(\"^((?![Ss]tudent).)*$\")) &\n",
    "    (F.col(\"location_name\").rlike(\"^((?![Ee]ducation).)*$\")) &\n",
    "    (F.col(\"location_name\").rlike(\"^((?![Ss]ocial).)*$\")) &\n",
    "    (F.col(\"location_name\").rlike(\"^((?![Ww]welfare).)*$\")) &\n",
    "    (F.col(\"location_name\").rlike(\"^((?![Cc][Ee][Ss]).)*$\")) &\n",
    "    (F.col(\"location_name\").rlike(\"^((?![Ff]amily).)*$\")) &\n",
    "    (F.col(\"location_name\").rlike(\"^((?![Mm]ary).)*$\")) &\n",
    "    (F.col(\"location_name\").rlike(\"^((?![Rr]ussian).)*$\")) &\n",
    "    (F.col(\"location_name\").rlike(\"^((?![Bb]eautif).)*$\")) &\n",
    "    (F.col(\"location_name\").rlike(\"^((?![Hh]eaven).)*$\")) &    \n",
    "    (F.col(\"location_name\").rlike(\"^((?!Inc).)*$\")) &\n",
    "    (F.col(\"location_name\").rlike(\"^((?!God).)*$\")))\\\n",
    "    .dropDuplicates([\"placekey\"])"
   ]
  },
  {
   "cell_type": "code",
   "execution_count": null,
   "metadata": {
    "application/vnd.databricks.v1+cell": {
     "cellMetadata": {
      "byteLimit": 2048000,
      "rowLimit": 10000
     },
     "inputWidgets": {},
     "nuid": "fa447953-d446-498e-a2d1-5dced72501fc",
     "showTitle": false,
     "title": ""
    }
   },
   "outputs": [],
   "source": [
    "patterns_lds_joined = patterns.join(lds_churches, on=\"placekey\", how=\"inner\")\n"
   ]
  },
  {
   "cell_type": "code",
   "execution_count": null,
   "metadata": {
    "application/vnd.databricks.v1+cell": {
     "cellMetadata": {
      "byteLimit": 2048000,
      "rowLimit": 10000
     },
     "inputWidgets": {},
     "nuid": "530c948c-d429-4356-94e9-9a98f97abec9",
     "showTitle": false,
     "title": ""
    }
   },
   "outputs": [],
   "source": [
    "pattern_lds_tract_joined = patterns_lds_joined.join(census_mapping, on=\"placekey\", how=\"inner\")\n"
   ]
  },
  {
   "cell_type": "code",
   "execution_count": null,
   "metadata": {
    "application/vnd.databricks.v1+cell": {
     "cellMetadata": {
      "byteLimit": 2048000,
      "rowLimit": 10000
     },
     "inputWidgets": {},
     "nuid": "cb7ccb42-ce8d-4e68-8e2b-166fa81216de",
     "showTitle": false,
     "title": ""
    }
   },
   "outputs": [],
   "source": [
    "average_visit_duration_by_tract_lds = pattern_lds_tract_joined.groupBy(\"tract\").agg(F.avg(\"median_dwell\").alias(\"average_visit_duration\"))\n"
   ]
  },
  {
   "cell_type": "code",
   "execution_count": null,
   "metadata": {
    "application/vnd.databricks.v1+cell": {
     "cellMetadata": {
      "byteLimit": 2048000,
      "rowLimit": 10000
     },
     "inputWidgets": {},
     "nuid": "3eeaec96-42b8-4cb0-8bf6-93bdccb698f8",
     "showTitle": false,
     "title": ""
    }
   },
   "outputs": [],
   "source": [
    "final_data_lds = average_visit_duration_by_tract_lds.join(tract_members, average_visit_duration_by_tract_lds.tract == tract_members.home)\n"
   ]
  },
  {
   "cell_type": "code",
   "execution_count": null,
   "metadata": {
    "application/vnd.databricks.v1+cell": {
     "cellMetadata": {
      "byteLimit": 2048000,
      "rowLimit": 10000
     },
     "inputWidgets": {},
     "nuid": "bcf65f7b-145e-4504-a74f-a22346a6537a",
     "showTitle": false,
     "title": ""
    }
   },
   "outputs": [],
   "source": [
    "sampled_final_data_lds = final_data_lds.sample(fraction=0.1).limit(1500).toPandas()\n",
    "\n",
    "\n",
    "plt.figure(figsize=(10, 6))\n",
    "plt.scatter(sampled_final_data_lds[\"average_visit_duration\"], sampled_final_data_lds[\"active_members_estimate\"])\n",
    "plt.title(\"Average Visit Duration at LDS Churches vs Active Members Estimate\")\n",
    "plt.xlabel(\"Average Visit Duration\")\n",
    "plt.ylabel(\"Active Members Estimate\")\n",
    "plt.grid(True)\n",
    "plt.show()\n"
   ]
  },
  {
   "cell_type": "code",
   "execution_count": null,
   "metadata": {
    "application/vnd.databricks.v1+cell": {
     "cellMetadata": {
      "byteLimit": 2048000,
      "rowLimit": 10000
     },
     "inputWidgets": {},
     "nuid": "11046b1a-1800-4bc1-bc80-f30affcbe5a4",
     "showTitle": false,
     "title": ""
    }
   },
   "outputs": [],
   "source": [
    "fig = px.scatter(sampled_final_data_lds, x=\"average_visit_duration\", y=\"active_members_estimate\", \n",
    "                 title=\"Average Visit Duration at LDS Churches vs Active Members Estimate\")\n",
    "fig.show()"
   ]
  }
 ],
 "metadata": {
  "application/vnd.databricks.v1+notebook": {
   "dashboards": [],
   "language": "python",
   "notebookMetadata": {
    "pythonIndentUnit": 4
   },
   "notebookName": "Feature Challenge Final - Seth Linares",
   "widgets": {}
  },
  "language_info": {
   "name": "python"
  }
 },
 "nbformat": 4,
 "nbformat_minor": 0
}
